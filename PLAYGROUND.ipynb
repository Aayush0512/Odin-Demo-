{
  "nbformat": 4,
  "nbformat_minor": 0,
  "metadata": {
    "colab": {
      "provenance": [],
      "authorship_tag": "ABX9TyPA6wxf568/UNa+ZMLJ5Xwz",
      "include_colab_link": true
    },
    "kernelspec": {
      "name": "python3",
      "display_name": "Python 3"
    },
    "language_info": {
      "name": "python"
    }
  },
  "cells": [
    {
      "cell_type": "markdown",
      "metadata": {
        "id": "view-in-github",
        "colab_type": "text"
      },
      "source": [
        "<a href=\"https://colab.research.google.com/github/Aayush0512/Odin-Demo-/blob/main/PLAYGROUND.ipynb\" target=\"_parent\"><img src=\"https://colab.research.google.com/assets/colab-badge.svg\" alt=\"Open In Colab\"/></a>"
      ]
    },
    {
      "cell_type": "code",
      "execution_count": null,
      "metadata": {
        "colab": {
          "base_uri": "https://localhost:8080/"
        },
        "id": "Nl2oK_Y9mXML",
        "outputId": "f895fe05-38ee-426f-c893-ff2f5e2678be"
      },
      "outputs": [
        {
          "output_type": "stream",
          "name": "stdout",
          "text": [
            "Me banuga Data engineer!\n"
          ]
        }
      ],
      "source": [
        "print(\"Me banuga Data engineer!\")"
      ]
    },
    {
      "cell_type": "code",
      "source": [
        "c = \"\"\"This very long sentence. It is in the same line\n",
        "Hi Hello\n",
        "Bye\"\"\"\n",
        "print(c)"
      ],
      "metadata": {
        "colab": {
          "base_uri": "https://localhost:8080/"
        },
        "id": "662sypWnZClc",
        "outputId": "cdc727df-ffeb-4341-9a97-7fbfc5bbb9fe"
      },
      "execution_count": null,
      "outputs": [
        {
          "output_type": "stream",
          "name": "stdout",
          "text": [
            "This very long sentence. It is in the same line\n",
            "Hi Hello\n",
            "Bye\n"
          ]
        }
      ]
    },
    {
      "cell_type": "code",
      "source": [
        "name=\"Aayush\"\n",
        "age=25\n",
        "married=False\n",
        "height=5.11\n",
        "house=None\n",
        "\n",
        "print(type(height))"
      ],
      "metadata": {
        "colab": {
          "base_uri": "https://localhost:8080/"
        },
        "id": "2CCLtfceoIxl",
        "outputId": "030ed743-3e73-458f-c934-8943261567f0"
      },
      "execution_count": null,
      "outputs": [
        {
          "output_type": "stream",
          "name": "stdout",
          "text": [
            "<class 'float'>\n"
          ]
        }
      ]
    },
    {
      "cell_type": "code",
      "source": [
        "# All procedural programming -> Case sensitive(Python, C, C++, Java)\n",
        "# All non-procedural languages -> Case insensitive (Sql, html)"
      ],
      "metadata": {
        "id": "V-5q5k0OqrEs"
      },
      "execution_count": null,
      "outputs": []
    },
    {
      "cell_type": "markdown",
      "source": [
        "### **Type conversion**"
      ],
      "metadata": {
        "id": "1D-Tfmu-Vehs"
      }
    },
    {
      "cell_type": "code",
      "source": [
        "a = 3\n",
        "print(a+50.78)\n",
        "type(a)"
      ],
      "metadata": {
        "id": "t29melVyb8vP",
        "colab": {
          "base_uri": "https://localhost:8080/"
        },
        "outputId": "7f4341f7-65ce-409b-b8b7-6dfff3273efe"
      },
      "execution_count": null,
      "outputs": [
        {
          "output_type": "stream",
          "name": "stdout",
          "text": [
            "53.78\n"
          ]
        },
        {
          "output_type": "execute_result",
          "data": {
            "text/plain": [
              "int"
            ]
          },
          "metadata": {},
          "execution_count": 19
        }
      ]
    },
    {
      "cell_type": "code",
      "source": [
        "a = input(\"Enter the value of a: \")\n",
        "b = input(\"Enter the value of b: \")"
      ],
      "metadata": {
        "colab": {
          "base_uri": "https://localhost:8080/"
        },
        "id": "C4JK2VCCb2H6",
        "outputId": "64568ba0-7e02-431b-d60e-f31208be4821"
      },
      "execution_count": null,
      "outputs": [
        {
          "name": "stdout",
          "output_type": "stream",
          "text": [
            "Enter the value of a: rt\n",
            "Enter the value of b: 87\n"
          ]
        }
      ]
    },
    {
      "cell_type": "code",
      "source": [
        "print(a+b)"
      ],
      "metadata": {
        "colab": {
          "base_uri": "https://localhost:8080/"
        },
        "id": "c3lKpUHpcTRb",
        "outputId": "2e788bc4-6a20-4830-ab08-7e037fb42a7f"
      },
      "execution_count": null,
      "outputs": [
        {
          "output_type": "stream",
          "name": "stdout",
          "text": [
            "rt87\n"
          ]
        }
      ]
    },
    {
      "cell_type": "code",
      "source": [
        "type(a)"
      ],
      "metadata": {
        "colab": {
          "base_uri": "https://localhost:8080/"
        },
        "id": "HKKpKvNScn9s",
        "outputId": "214b30a6-c5ee-4eef-b610-b266735188a1"
      },
      "execution_count": null,
      "outputs": [
        {
          "output_type": "execute_result",
          "data": {
            "text/plain": [
              "str"
            ]
          },
          "metadata": {},
          "execution_count": 11
        }
      ]
    },
    {
      "cell_type": "code",
      "source": [
        "type(b)"
      ],
      "metadata": {
        "colab": {
          "base_uri": "https://localhost:8080/"
        },
        "id": "NAwJ6RZ1cvU3",
        "outputId": "aaa3d613-ad52-4fc8-b6e9-abf5cb1d5953"
      },
      "execution_count": null,
      "outputs": [
        {
          "output_type": "execute_result",
          "data": {
            "text/plain": [
              "str"
            ]
          },
          "metadata": {},
          "execution_count": 12
        }
      ]
    },
    {
      "cell_type": "code",
      "source": [
        "\"3\" + \"4\""
      ],
      "metadata": {
        "colab": {
          "base_uri": "https://localhost:8080/",
          "height": 36
        },
        "id": "tlZSHQX-cxPq",
        "outputId": "aed36b31-5f16-44ea-950d-31eedc4a781e"
      },
      "execution_count": null,
      "outputs": [
        {
          "output_type": "execute_result",
          "data": {
            "text/plain": [
              "'34'"
            ],
            "application/vnd.google.colaboratory.intrinsic+json": {
              "type": "string"
            }
          },
          "metadata": {},
          "execution_count": 13
        }
      ]
    },
    {
      "cell_type": "code",
      "source": [
        "a = input(\"Enter the value of a: \")\n",
        "b = input(\"Enter the value of b: \")\n",
        "\n",
        "a = int(a)\n",
        "b = int(b)\n",
        "type(b)"
      ],
      "metadata": {
        "colab": {
          "base_uri": "https://localhost:8080/"
        },
        "id": "WN4oESyrdFjf",
        "outputId": "09d22d21-8185-415b-ed2f-eb0cd0987f2a"
      },
      "execution_count": null,
      "outputs": [
        {
          "name": "stdout",
          "output_type": "stream",
          "text": [
            "Enter the value of a: 8\n",
            "Enter the value of b: 6\n"
          ]
        },
        {
          "output_type": "execute_result",
          "data": {
            "text/plain": [
              "int"
            ]
          },
          "metadata": {},
          "execution_count": 14
        }
      ]
    },
    {
      "cell_type": "code",
      "source": [
        "print(a+b)"
      ],
      "metadata": {
        "colab": {
          "base_uri": "https://localhost:8080/"
        },
        "id": "sBfE8uOSdZCa",
        "outputId": "02b03edc-7931-4a2a-c398-4653c11ffb76"
      },
      "execution_count": null,
      "outputs": [
        {
          "output_type": "stream",
          "name": "stdout",
          "text": [
            "14\n"
          ]
        }
      ]
    },
    {
      "cell_type": "code",
      "source": [
        "a = bool(input(\"Enter the value of a: \"))\n",
        "type(a)"
      ],
      "metadata": {
        "colab": {
          "base_uri": "https://localhost:8080/"
        },
        "id": "pzZxqLg1deYj",
        "outputId": "61573547-a51d-415a-89f1-729b04149657"
      },
      "execution_count": null,
      "outputs": [
        {
          "name": "stdout",
          "output_type": "stream",
          "text": [
            "Enter the value of a: 1\n"
          ]
        },
        {
          "output_type": "execute_result",
          "data": {
            "text/plain": [
              "bool"
            ]
          },
          "metadata": {},
          "execution_count": 21
        }
      ]
    },
    {
      "cell_type": "code",
      "source": [
        "\n",
        "\n",
        "l1=[[1,1,1],[2,4,8],[3,9,27]]\n",
        "l2=[]\n",
        "for x in l1:\n",
        "  for y in x:\n",
        "    l2.append(y)\n",
        "\n",
        "\n",
        "print(l2)"
      ],
      "metadata": {
        "colab": {
          "base_uri": "https://localhost:8080/"
        },
        "id": "WSPOoOid3P9X",
        "outputId": "e20bac32-5c6b-4d2a-f88e-d0e91b68866b"
      },
      "execution_count": null,
      "outputs": [
        {
          "output_type": "stream",
          "name": "stdout",
          "text": [
            "[1, 1, 1, 2, 4, 8, 3, 9, 27]\n"
          ]
        }
      ]
    },
    {
      "cell_type": "code",
      "source": [
        " #FIND AVG salary OF each Deparetment IN LIST\n",
        "\n",
        "data=[\n",
        "    [101,\"John\",\"IT\",80000],\n",
        "    [102,\"Jane\",\"HR\",45000],\n",
        "    [103,\"Bob\",\"IT\",70000],\n",
        "    [104,\"Alice\",\"HR\",35000],\n",
        "]\n",
        "\n",
        "dept_stats = {}\n",
        "\n",
        "# Sum salaries and count employees per department\n",
        "for emp in data:\n",
        "    dept, salary = emp[2], emp[3]\n",
        "    if dept not in dept_stats:\n",
        "        dept_stats[dept] = {'sum': 0, 'count': 0}\n",
        "    dept_stats[dept]['sum'] += salary\n",
        "    dept_stats[dept]['count'] += 1\n",
        "\n",
        "\n",
        "\n",
        "print(dept_stats)\n",
        "\n",
        "for dept, stats in dept_stats.items():\n",
        "    avg = stats['sum'] / stats['count']\n",
        "    print(f\"{dept}: ${avg:.2f}\")\n",
        "\n",
        "\n",
        "\n"
      ],
      "metadata": {
        "colab": {
          "base_uri": "https://localhost:8080/"
        },
        "id": "JCU07oii26v6",
        "outputId": "4e132519-1a88-4cf1-de17-08cf7531f5e9"
      },
      "execution_count": null,
      "outputs": [
        {
          "output_type": "stream",
          "name": "stdout",
          "text": [
            "{'IT': {'sum': 150000, 'count': 2}, 'HR': {'sum': 80000, 'count': 2}}\n",
            "IT: $75000.00\n",
            "HR: $40000.00\n"
          ]
        }
      ]
    }
  ]
}