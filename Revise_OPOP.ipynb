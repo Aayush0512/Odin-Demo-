{
  "cells": [
    {
      "cell_type": "markdown",
      "metadata": {
        "id": "view-in-github",
        "colab_type": "text"
      },
      "source": [
        "<a href=\"https://colab.research.google.com/github/Aayush0512/Odin-Demo-/blob/main/Revise_OPOP.ipynb\" target=\"_parent\"><img src=\"https://colab.research.google.com/assets/colab-badge.svg\" alt=\"Open In Colab\"/></a>"
      ]
    },
    {
      "cell_type": "code",
      "execution_count": null,
      "metadata": {
        "colab": {
          "base_uri": "https://localhost:8080/"
        },
        "id": "Nl2oK_Y9mXML",
        "outputId": "f895fe05-38ee-426f-c893-ff2f5e2678be"
      },
      "outputs": [
        {
          "output_type": "stream",
          "name": "stdout",
          "text": [
            "Me banuga Data engineer!\n"
          ]
        }
      ],
      "source": [
        "print(\"Me banuga Data engineer!\")"
      ]
    },
    {
      "cell_type": "code",
      "source": [
        "c = \"\"\"This very long sentence. It is in the same line\n",
        "Hi Hello\n",
        "Bye\"\"\"\n",
        "print(c)"
      ],
      "metadata": {
        "colab": {
          "base_uri": "https://localhost:8080/"
        },
        "id": "662sypWnZClc",
        "outputId": "cdc727df-ffeb-4341-9a97-7fbfc5bbb9fe"
      },
      "execution_count": null,
      "outputs": [
        {
          "output_type": "stream",
          "name": "stdout",
          "text": [
            "This very long sentence. It is in the same line\n",
            "Hi Hello\n",
            "Bye\n"
          ]
        }
      ]
    },
    {
      "cell_type": "markdown",
      "source": [
        "## Data types\n",
        "# Integers (int)\n",
        "# Floating point numbers (float)\n",
        "# String (str)\n",
        "# Boolean types\n",
        "# none"
      ],
      "metadata": {
        "id": "NJJyOCX5oPJM"
      }
    },
    {
      "cell_type": "code",
      "source": [
        "name=\"Aayush\"\n",
        "age=25\n",
        "married=False\n",
        "height=5.11\n",
        "house=None\n",
        "\n",
        "print(type(height))"
      ],
      "metadata": {
        "colab": {
          "base_uri": "https://localhost:8080/"
        },
        "id": "2CCLtfceoIxl",
        "outputId": "030ed743-3e73-458f-c934-8943261567f0"
      },
      "execution_count": null,
      "outputs": [
        {
          "output_type": "stream",
          "name": "stdout",
          "text": [
            "<class 'float'>\n"
          ]
        }
      ]
    },
    {
      "cell_type": "code",
      "source": [
        "# All procedural programming -> Case sensitive(Python, C, C++, Java)\n",
        "# All non-procedural languages -> Case insensitive (Sql, html)"
      ],
      "metadata": {
        "id": "V-5q5k0OqrEs"
      },
      "execution_count": null,
      "outputs": []
    },
    {
      "cell_type": "markdown",
      "source": [
        "### **Type conversion**"
      ],
      "metadata": {
        "id": "1D-Tfmu-Vehs"
      }
    },
    {
      "cell_type": "code",
      "source": [
        "a = 3\n",
        "b=(a+50.78)\n",
        "print(type(a))\n",
        "type(b)"
      ],
      "metadata": {
        "id": "t29melVyb8vP",
        "colab": {
          "base_uri": "https://localhost:8080/"
        },
        "outputId": "6bbf56c3-e892-4d34-e2fc-1f1ca433890b"
      },
      "execution_count": null,
      "outputs": [
        {
          "output_type": "stream",
          "name": "stdout",
          "text": [
            "<class 'int'>\n"
          ]
        },
        {
          "output_type": "execute_result",
          "data": {
            "text/plain": [
              "float"
            ]
          },
          "metadata": {},
          "execution_count": 2
        }
      ]
    },
    {
      "cell_type": "code",
      "source": [
        "a = input(\"Enter the value of a: \")\n",
        "b = input(\"Enter the value of b: \")"
      ],
      "metadata": {
        "colab": {
          "base_uri": "https://localhost:8080/"
        },
        "id": "C4JK2VCCb2H6",
        "outputId": "64568ba0-7e02-431b-d60e-f31208be4821"
      },
      "execution_count": null,
      "outputs": [
        {
          "name": "stdout",
          "output_type": "stream",
          "text": [
            "Enter the value of a: rt\n",
            "Enter the value of b: 87\n"
          ]
        }
      ]
    },
    {
      "cell_type": "code",
      "source": [
        "print(a+b)"
      ],
      "metadata": {
        "colab": {
          "base_uri": "https://localhost:8080/"
        },
        "id": "c3lKpUHpcTRb",
        "outputId": "2e788bc4-6a20-4830-ab08-7e037fb42a7f"
      },
      "execution_count": null,
      "outputs": [
        {
          "output_type": "stream",
          "name": "stdout",
          "text": [
            "rt87\n"
          ]
        }
      ]
    },
    {
      "cell_type": "code",
      "source": [
        "type(a)"
      ],
      "metadata": {
        "colab": {
          "base_uri": "https://localhost:8080/"
        },
        "id": "HKKpKvNScn9s",
        "outputId": "214b30a6-c5ee-4eef-b610-b266735188a1"
      },
      "execution_count": null,
      "outputs": [
        {
          "output_type": "execute_result",
          "data": {
            "text/plain": [
              "str"
            ]
          },
          "metadata": {},
          "execution_count": 11
        }
      ]
    },
    {
      "cell_type": "code",
      "source": [
        "\"3\" + \"4\""
      ],
      "metadata": {
        "colab": {
          "base_uri": "https://localhost:8080/",
          "height": 36
        },
        "id": "tlZSHQX-cxPq",
        "outputId": "aed36b31-5f16-44ea-950d-31eedc4a781e"
      },
      "execution_count": null,
      "outputs": [
        {
          "output_type": "execute_result",
          "data": {
            "text/plain": [
              "'34'"
            ],
            "application/vnd.google.colaboratory.intrinsic+json": {
              "type": "string"
            }
          },
          "metadata": {},
          "execution_count": 13
        }
      ]
    },
    {
      "cell_type": "code",
      "source": [
        "a = input(\"Enter the value of a: \")\n",
        "b = input(\"Enter the value of b: \")\n",
        "\n",
        "a = int(a)\n",
        "b = int(b)\n",
        "print(a/b)\n",
        "type(b)"
      ],
      "metadata": {
        "colab": {
          "base_uri": "https://localhost:8080/"
        },
        "id": "WN4oESyrdFjf",
        "outputId": "4b40835c-606f-4a4d-ba04-2d3771b8fd2e"
      },
      "execution_count": null,
      "outputs": [
        {
          "output_type": "stream",
          "name": "stdout",
          "text": [
            "Enter the value of a: 45\n",
            "Enter the value of b: 5\n",
            "9.0\n"
          ]
        },
        {
          "output_type": "execute_result",
          "data": {
            "text/plain": [
              "int"
            ]
          },
          "metadata": {},
          "execution_count": 22
        }
      ]
    },
    {
      "cell_type": "code",
      "source": [
        "print(a+b)"
      ],
      "metadata": {
        "colab": {
          "base_uri": "https://localhost:8080/"
        },
        "id": "sBfE8uOSdZCa",
        "outputId": "406845f4-a15f-43aa-d2f1-42c5022e0a34"
      },
      "execution_count": null,
      "outputs": [
        {
          "output_type": "stream",
          "name": "stdout",
          "text": [
            "50\n"
          ]
        }
      ]
    },
    {
      "cell_type": "code",
      "source": [
        "a = bool(input(\"Enter the value of a: \"))\n",
        "type(a)"
      ],
      "metadata": {
        "colab": {
          "base_uri": "https://localhost:8080/"
        },
        "id": "pzZxqLg1deYj",
        "outputId": "61573547-a51d-415a-89f1-729b04149657"
      },
      "execution_count": null,
      "outputs": [
        {
          "name": "stdout",
          "output_type": "stream",
          "text": [
            "Enter the value of a: 1\n"
          ]
        },
        {
          "output_type": "execute_result",
          "data": {
            "text/plain": [
              "bool"
            ]
          },
          "metadata": {},
          "execution_count": 21
        }
      ]
    },
    {
      "cell_type": "markdown",
      "source": [
        "## **Math module**\n",
        "* Functions\n",
        "* Constants"
      ],
      "metadata": {
        "id": "kL_CmmVoXU6J"
      }
    },
    {
      "cell_type": "code",
      "source": [
        "import math"
      ],
      "metadata": {
        "id": "w0OOYd2Bk1AF"
      },
      "execution_count": null,
      "outputs": []
    },
    {
      "cell_type": "code",
      "source": [
        "# Functions\n",
        "# 1. factorial()\n",
        "# 2. ceil(), floor()\n",
        "# 3. pow()\n",
        "# 4. sqrt()"
      ],
      "metadata": {
        "id": "eY4OHxehZhMR"
      },
      "execution_count": null,
      "outputs": []
    },
    {
      "cell_type": "code",
      "source": [
        "math.factorial(5)"
      ],
      "metadata": {
        "colab": {
          "base_uri": "https://localhost:8080/"
        },
        "id": "UBFWDU4vl20w",
        "outputId": "b98172d3-ef7d-40b6-ac90-2c7b5fb42e6f"
      },
      "execution_count": null,
      "outputs": [
        {
          "output_type": "execute_result",
          "data": {
            "text/plain": [
              "120"
            ]
          },
          "metadata": {},
          "execution_count": 52
        }
      ]
    },
    {
      "cell_type": "code",
      "source": [
        "round(5.73654)"
      ],
      "metadata": {
        "colab": {
          "base_uri": "https://localhost:8080/"
        },
        "id": "BfmHnf1fmCQI",
        "outputId": "5319ac51-67d7-4f8e-da2c-f2a044d9f959"
      },
      "execution_count": null,
      "outputs": [
        {
          "output_type": "execute_result",
          "data": {
            "text/plain": [
              "6"
            ]
          },
          "metadata": {},
          "execution_count": 54
        }
      ]
    },
    {
      "cell_type": "code",
      "source": [
        "math.ceil(5.001)"
      ],
      "metadata": {
        "colab": {
          "base_uri": "https://localhost:8080/"
        },
        "id": "18ziGo7hmTdb",
        "outputId": "1dddbf68-52e3-4d72-87bd-a6d7898ccbe5"
      },
      "execution_count": null,
      "outputs": [
        {
          "output_type": "execute_result",
          "data": {
            "text/plain": [
              "6"
            ]
          },
          "metadata": {},
          "execution_count": 55
        }
      ]
    },
    {
      "cell_type": "code",
      "source": [
        "math.floor(7.99)"
      ],
      "metadata": {
        "colab": {
          "base_uri": "https://localhost:8080/"
        },
        "id": "Dg_wV9VpmiNX",
        "outputId": "00959f75-3b6d-4e6d-ecbe-d250a1c742b8"
      },
      "execution_count": null,
      "outputs": [
        {
          "output_type": "execute_result",
          "data": {
            "text/plain": [
              "7"
            ]
          },
          "metadata": {},
          "execution_count": 56
        }
      ]
    },
    {
      "cell_type": "code",
      "source": [
        "3 ** 3"
      ],
      "metadata": {
        "colab": {
          "base_uri": "https://localhost:8080/"
        },
        "id": "XWjdrAOBmtVn",
        "outputId": "a0883759-520e-4fba-9e83-aaee8deb2eb6"
      },
      "execution_count": null,
      "outputs": [
        {
          "output_type": "execute_result",
          "data": {
            "text/plain": [
              "27"
            ]
          },
          "metadata": {},
          "execution_count": 57
        }
      ]
    },
    {
      "cell_type": "code",
      "source": [
        "print(23//4)"
      ],
      "metadata": {
        "colab": {
          "base_uri": "https://localhost:8080/"
        },
        "id": "9SzbaNXi-gx6",
        "outputId": "0b868471-c349-42d2-ec55-1515dc5fbc5a"
      },
      "execution_count": null,
      "outputs": [
        {
          "output_type": "stream",
          "name": "stdout",
          "text": [
            "5\n"
          ]
        }
      ]
    },
    {
      "cell_type": "code",
      "source": [
        "math.pow(3, 2)"
      ],
      "metadata": {
        "colab": {
          "base_uri": "https://localhost:8080/"
        },
        "id": "nEiDuvCfm1OM",
        "outputId": "a38e8a5e-d4af-4e48-868f-ed6bcf048637"
      },
      "execution_count": null,
      "outputs": [
        {
          "output_type": "execute_result",
          "data": {
            "text/plain": [
              "9.0"
            ]
          },
          "metadata": {},
          "execution_count": 59
        }
      ]
    },
    {
      "cell_type": "code",
      "source": [
        "a = math.sqrt(25)\n",
        "print(a)"
      ],
      "metadata": {
        "colab": {
          "base_uri": "https://localhost:8080/"
        },
        "id": "-fOvjuZPm-S1",
        "outputId": "55eac8d2-8f6e-44fe-97ab-edd34b5f096a"
      },
      "execution_count": null,
      "outputs": [
        {
          "output_type": "stream",
          "name": "stdout",
          "text": [
            "5.0\n"
          ]
        }
      ]
    },
    {
      "cell_type": "code",
      "source": [
        "math.pi"
      ],
      "metadata": {
        "colab": {
          "base_uri": "https://localhost:8080/"
        },
        "id": "rfCgaoiXnN-A",
        "outputId": "2f04e40c-e495-464b-9dac-c1087a629a06"
      },
      "execution_count": null,
      "outputs": [
        {
          "output_type": "execute_result",
          "data": {
            "text/plain": [
              "3.141592653589793"
            ]
          },
          "metadata": {},
          "execution_count": 61
        }
      ]
    },
    {
      "cell_type": "code",
      "source": [
        "import math\n",
        "radius = 5\n",
        "\n",
        "area = math.pi * math.pow(radius, 2)\n",
        "print(area)"
      ],
      "metadata": {
        "id": "NBS2Sh1fnlQl"
      },
      "execution_count": null,
      "outputs": []
    },
    {
      "cell_type": "markdown",
      "source": [
        "# Conditional statement\n"
      ],
      "metadata": {
        "id": "WroHDTuu_Jf0"
      }
    },
    {
      "cell_type": "code",
      "source": [
        "a = int(input(\"enter marks - \"))\n",
        "if a>60:\n",
        "  print(\"pass\")\n",
        "else:\n",
        "  print(\"fail\")"
      ],
      "metadata": {
        "colab": {
          "base_uri": "https://localhost:8080/"
        },
        "id": "5XQ3I4RQ_S-f",
        "outputId": "5a0b9f43-0727-4183-fa99-a1105a2597b1"
      },
      "execution_count": null,
      "outputs": [
        {
          "output_type": "stream",
          "name": "stdout",
          "text": [
            "enter marks - 45\n",
            "fail\n"
          ]
        }
      ]
    },
    {
      "cell_type": "code",
      "source": [
        "a = int(input(\"enter marks - \"))\n",
        "if a>80:\n",
        "  print(\"Passed with A grade\")\n",
        "elif a>=35:       #Agar yaha if likhe toh dono if check hoga and dono print krega true hogaya to\n",
        "  print(\"passed but not A grade\")\n",
        "else:\n",
        "  print(\"Failed\")"
      ],
      "metadata": {
        "colab": {
          "base_uri": "https://localhost:8080/"
        },
        "id": "-uuNrBOWA0eY",
        "outputId": "9a4fd7df-6829-4cd0-dee3-0633107007c1"
      },
      "execution_count": null,
      "outputs": [
        {
          "output_type": "stream",
          "name": "stdout",
          "text": [
            "enter marks - 12\n",
            "Failed\n"
          ]
        }
      ]
    },
    {
      "cell_type": "markdown",
      "source": [
        "# Strings\n",
        "Immutable - cannot make changes\n",
        "\n"
      ],
      "metadata": {
        "id": "dj3d4Z3yybWu"
      }
    },
    {
      "cell_type": "code",
      "execution_count": null,
      "metadata": {
        "colab": {
          "base_uri": "https://localhost:8080/"
        },
        "id": "RB4UtXxofK_s",
        "outputId": "5d8e5f65-05a2-4bcd-b314-7a2b7ba4a9b4"
      },
      "outputs": [
        {
          "output_type": "stream",
          "name": "stdout",
          "text": [
            "5\n",
            "h\n",
            "htrae eht ni lamina gib yrev a si tnahpele\n",
            "eehn savr i nmli h at\n"
          ]
        }
      ],
      "source": [
        "s='elephant is a very big animal in the earth'\n",
        "print(s.count('e'))\n",
        "print(s[-1])   #negative indexing starts from end\n",
        "print(s[::-1])  #reverse a string using step size(-1)\n",
        "print(s[::2])"
      ]
    },
    {
      "cell_type": "code",
      "source": [
        "s='elephant is a very big animal in the earth'\n",
        "index=s.find(\" \")  #gives -1 of char is not present on string\n",
        "print(s[index+1:])"
      ],
      "metadata": {
        "colab": {
          "base_uri": "https://localhost:8080/"
        },
        "id": "IRndDgqmInW-",
        "outputId": "7e53d325-82f0-48d6-f689-c5ad07297b0e"
      },
      "execution_count": null,
      "outputs": [
        {
          "output_type": "stream",
          "name": "stdout",
          "text": [
            "is a very big animal in the earth\n"
          ]
        }
      ]
    },
    {
      "cell_type": "code",
      "execution_count": null,
      "metadata": {
        "id": "appwyFcNybDd",
        "colab": {
          "base_uri": "https://localhost:8080/"
        },
        "outputId": "0a216fb7-a278-429e-a5c2-4a471b8f875e"
      },
      "outputs": [
        {
          "output_type": "execute_result",
          "data": {
            "text/plain": [
              "[' hwloo new python buddy', 'how to do anything', 'ggwp ill do']"
            ]
          },
          "metadata": {},
          "execution_count": 8
        }
      ],
      "source": [
        "x=''' hwloo new python buddy\n",
        "how to do anything\n",
        "ggwp ill do'''\n",
        "\n",
        "y=x.splitlines()\n",
        "y"
      ]
    },
    {
      "cell_type": "code",
      "execution_count": null,
      "metadata": {
        "id": "EEfevFOsyYf7",
        "colab": {
          "base_uri": "https://localhost:8080/"
        },
        "outputId": "9e18cfdb-58b9-41e3-e30f-4b4a24b539b2"
      },
      "outputs": [
        {
          "output_type": "stream",
          "name": "stdout",
          "text": [
            "This is my example bye gg gg\n"
          ]
        }
      ],
      "source": [
        "print('This is my example {2} {0} {0}'.format('gg','wp','bye'))  # ye bhi ho sakta haiii bhai #format function"
      ]
    },
    {
      "cell_type": "code",
      "execution_count": null,
      "metadata": {
        "id": "2VRcutKfvLYW",
        "colab": {
          "base_uri": "https://localhost:8080/"
        },
        "outputId": "8f812b3e-131b-436e-e3f0-73bb3812dee5"
      },
      "outputs": [
        {
          "output_type": "stream",
          "name": "stdout",
          "text": [
            "This is Aayush and my 0.835820895522388 example 0.836\n"
          ]
        }
      ],
      "source": [
        "c=56/67\n",
        "name = 'Aayush'\n",
        "print('This is {r} and my {w} example {w:1.3f}'.format(w=c, r=name)) #Float value and string using .format function ,\n",
        "                                                                      #{w:1.3f} used to specify the digit you want after decimal"
      ]
    },
    {
      "cell_type": "code",
      "execution_count": null,
      "metadata": {
        "id": "nMwAmecPwYs0",
        "colab": {
          "base_uri": "https://localhost:8080/"
        },
        "outputId": "60d81e91-1b3e-40ef-fe55-e3c9750f2583"
      },
      "outputs": [
        {
          "output_type": "stream",
          "name": "stdout",
          "text": [
            "f string literals method of print Aayush gg 0512 0.836\n"
          ]
        }
      ],
      "source": [
        "name = 'Aayush'\n",
        "msg='gg 0512'\n",
        "c=56/67\n",
        "print(f'f string literals method of print {name} {msg} {c:1.3f}') # new way of print either use .format method or f string literals"
      ]
    },
    {
      "cell_type": "code",
      "source": [
        "name = '    Aayush     '\n",
        "print(name.strip().lower()) #remove unawanted spaces\n",
        "print(name.rstrip())\n",
        "print(name.lstrip())"
      ],
      "metadata": {
        "colab": {
          "base_uri": "https://localhost:8080/"
        },
        "id": "5xJEIEDkfiZR",
        "outputId": "b2948efc-4b0a-4502-e6b6-97f1d22537bb"
      },
      "execution_count": null,
      "outputs": [
        {
          "output_type": "stream",
          "name": "stdout",
          "text": [
            "aayush\n",
            "    Aayush\n",
            "Aayush     \n"
          ]
        }
      ]
    },
    {
      "cell_type": "markdown",
      "source": [
        "# LISTS"
      ],
      "metadata": {
        "id": "o92pkkYWyrbv"
      }
    },
    {
      "cell_type": "code",
      "execution_count": null,
      "metadata": {
        "colab": {
          "base_uri": "https://localhost:8080/"
        },
        "id": "Gv7LqqJ_ymq4",
        "outputId": "0246c427-6910-480f-b7f7-9f71e7b11ba7"
      },
      "outputs": [
        {
          "output_type": "stream",
          "name": "stdout",
          "text": [
            "66\n",
            "[34, 'yoyo', 21, 67, 100, 'Hi', 44, 'aayush']\n",
            "[78, 56, 45, 44, 34, 11]\n",
            "78\n",
            "8\n"
          ]
        }
      ],
      "source": [
        "#list (Mutable) (ordered) (Strings also ordered)\n",
        "list1=[34,21,67,12,\"Hi\",44,'aayush']\n",
        "list2=[45,44,11,34,78,56]\n",
        "list1.insert(1,'yoyo')\n",
        "list2.sort(reverse=True) #for sorting in DESC\n",
        "list1[4]=100\n",
        "list1.append(66)            #add at the end\n",
        "print(list1.pop())         # takes index ,by default it will remove last index and will also return value\n",
        "#list1.remove(21)           # it takes direct value and will not return\n",
        "print(list1)\n",
        "print(list2)\n",
        "print(max(list2))\n",
        "print(len(list1))"
      ]
    },
    {
      "cell_type": "code",
      "execution_count": null,
      "metadata": {
        "id": "2EzAL0FCFm8t",
        "colab": {
          "base_uri": "https://localhost:8080/"
        },
        "outputId": "313d6c83-b52f-4819-accd-0aefd2a65224"
      },
      "outputs": [
        {
          "output_type": "stream",
          "name": "stdout",
          "text": [
            "[56, 45, 34, 33, 23, 12, 11]\n",
            "56\n",
            "11\n",
            "[34, 56, 12, 90, 33, 23, 11]\n",
            "[34, 56, 12, 90, 33, 23, 11]\n"
          ]
        }
      ],
      "source": [
        "list2 =[34,56,12,45,33,23,11]\n",
        "print(sorted(list2,reverse=True))\n",
        "print(max(list2))\n",
        "print(min(list2))\n",
        "\n",
        "list3=list2   # use .copy() if you dont want to alter the orignal list, it will create new same list.\n",
        "list3[3]=90   # this will change the orignal list i.e list2, beacause 2 lists name pointing to the same memory.\n",
        "print(list2)\n",
        "print(list3)\n"
      ]
    },
    {
      "cell_type": "code",
      "execution_count": null,
      "metadata": {
        "id": "eO1x28BH31cK",
        "colab": {
          "base_uri": "https://localhost:8080/"
        },
        "outputId": "77c5efac-5d3a-4793-c801-0acf4ddcd64f"
      },
      "outputs": [
        {
          "output_type": "execute_result",
          "data": {
            "text/plain": [
              "[34, 56, 12, 45, 33, 23, 22, 31, 45, 67, 89]"
            ]
          },
          "metadata": {},
          "execution_count": 19
        }
      ],
      "source": [
        "#Add the following values to the end of list [22,31,45,67,89]\n",
        "list2[-1:]=[22,31,45,67,89]\n",
        "list2"
      ]
    },
    {
      "cell_type": "code",
      "execution_count": null,
      "metadata": {
        "id": "xqvE2k-_Ermm",
        "colab": {
          "base_uri": "https://localhost:8080/"
        },
        "outputId": "f3731904-090a-461b-f9d3-c201a1dbd189"
      },
      "outputs": [
        {
          "output_type": "execute_result",
          "data": {
            "text/plain": [
              "[1, 2, 3, 4, 5, 6, 7, 8, 9, 10, 11, 12]"
            ]
          },
          "metadata": {},
          "execution_count": 22
        }
      ],
      "source": [
        "a=[1,2,3,4,5,6,7]\n",
        "a.extend([8,9,10,11,12]) # add as an element\n",
        "#a.append([22,23,24])   # add as another list\n",
        "\n",
        "a"
      ]
    },
    {
      "cell_type": "markdown",
      "source": [
        "# Dictionary"
      ],
      "metadata": {
        "id": "iSHQ_pgYyxI4"
      }
    },
    {
      "cell_type": "code",
      "execution_count": null,
      "metadata": {
        "id": "02mTgmoh8dgl"
      },
      "outputs": [],
      "source": [
        "#Dictionary (Mutable) (unordered coz mapped)\n",
        "#Dictionary entries are ordered as of Python version 3.7. In Python 3.6 and before, dictionaries are generally unordered.\n",
        "Mydict={'colour':'red','type':'seedan','safty':5,'price':[3.45,5,7,8.9]}\n",
        "Mydict.keys()\n",
        "Mydict.items()\n",
        "Mydict.values()\n",
        "Mydict['price'][1]=2"
      ]
    },
    {
      "cell_type": "markdown",
      "source": [],
      "metadata": {
        "id": "QqJH8-4BaEx8"
      }
    },
    {
      "cell_type": "code",
      "execution_count": null,
      "metadata": {
        "id": "hRTgK6t865Ki"
      },
      "outputs": [],
      "source": [
        "Mydict.pop('safty') #req key\n",
        "Mydict.popitem() #this will pop last item doesnt req key\n",
        "Mydict"
      ]
    },
    {
      "cell_type": "markdown",
      "source": [
        "# Tuple"
      ],
      "metadata": {
        "id": "d8VNrs1dy4lf"
      }
    },
    {
      "cell_type": "code",
      "execution_count": null,
      "metadata": {
        "id": "j5UtvGKb_v9Y"
      },
      "outputs": [],
      "source": [
        "#Tuple (Immutable) (ordered)\n",
        "tup=(12,12,55,'Zodiac')\n",
        "tup.count(12)\n",
        "max(tup)\n",
        "min(tup)\n",
        "sum(tup)"
      ]
    },
    {
      "cell_type": "code",
      "execution_count": null,
      "metadata": {
        "id": "WsmRKywcBi0r"
      },
      "outputs": [],
      "source": [
        "tup.index(55)"
      ]
    },
    {
      "cell_type": "code",
      "execution_count": null,
      "metadata": {
        "id": "fDbbYUkw1kLK",
        "colab": {
          "base_uri": "https://localhost:8080/"
        },
        "outputId": "dd5ecdac-276f-4993-d041-86558222c7a4"
      },
      "outputs": [
        {
          "output_type": "stream",
          "name": "stdout",
          "text": [
            "1\n",
            "2\n",
            "3\n",
            "4\n",
            "5\n",
            "6\n",
            "8\n",
            "9\n"
          ]
        }
      ],
      "source": [
        "#tuple unpacking\n",
        "mylistt=[(1,2),(3,4),(5,6),(8,9)]\n",
        "\n",
        "for a,b in mylistt:\n",
        "  print(a)\n",
        "  print(b)"
      ]
    },
    {
      "cell_type": "markdown",
      "source": [
        "# Sets"
      ],
      "metadata": {
        "id": "v5hPWyJEy8YW"
      }
    },
    {
      "cell_type": "code",
      "execution_count": null,
      "metadata": {
        "id": "Or5_LA0Sd2JX"
      },
      "outputs": [],
      "source": [
        "#Sets do not have index. removes duplicates (unordered )(mutable) ,only accept string and int\n",
        "set1={24,24,2,2,3.45,4,24,'Apple','boy'} # sets are similar to sets in mathematcis, and  mutable. Sets do not have index.\n",
        "print(type(set1))\n",
        "#print(set1[1])\n",
        "set1.add('jaiho')\n",
        "set1"
      ]
    },
    {
      "cell_type": "code",
      "source": [
        "#If you want to unique value in the list containing duplicates\n",
        "\n",
        "id= [21,22,21,23,34,45,23,56]\n",
        "\n",
        "#smart way\n",
        "new_id=set(id)\n",
        "print(new_id)\n"
      ],
      "metadata": {
        "colab": {
          "base_uri": "https://localhost:8080/"
        },
        "id": "fWiLZ_OHrZCX",
        "outputId": "be820bf2-0c5e-47d9-a915-99976f830317"
      },
      "execution_count": null,
      "outputs": [
        {
          "output_type": "stream",
          "name": "stdout",
          "text": [
            "{34, 45, 21, 22, 23, 56}\n"
          ]
        }
      ]
    },
    {
      "cell_type": "code",
      "execution_count": null,
      "metadata": {
        "id": "mQO7bLV98jB1",
        "colab": {
          "base_uri": "https://localhost:8080/"
        },
        "outputId": "9ac2a0cc-8fcc-4bf4-e044-edbb6480220f"
      },
      "outputs": [
        {
          "output_type": "execute_result",
          "data": {
            "text/plain": [
              "set"
            ]
          },
          "metadata": {},
          "execution_count": 15
        }
      ],
      "source": [
        "#newset={} # it will take as dict\n",
        "newset=set()\n",
        "type(newset)"
      ]
    },
    {
      "cell_type": "code",
      "execution_count": null,
      "metadata": {
        "id": "CCz8InYr7jGp",
        "colab": {
          "base_uri": "https://localhost:8080/"
        },
        "outputId": "f83742c5-c896-48e2-fbf3-0de6b83b7013"
      },
      "outputs": [
        {
          "output_type": "stream",
          "name": "stdout",
          "text": [
            "{1, 2, 3, 4, 5}\n",
            "{3, 4, 5}\n"
          ]
        }
      ],
      "source": [
        "setA = {1, 2, 3}\n",
        "setB = {3, 4, 5}\n",
        "setA.update(setB)\n",
        "setB.difference(setA)\n",
        "print(setA)\n",
        "print(setB)"
      ]
    },
    {
      "cell_type": "markdown",
      "source": [
        "# Loops"
      ],
      "metadata": {
        "id": "a5yzpC3jzCV9"
      }
    },
    {
      "cell_type": "code",
      "source": [
        "# do sum of only int and float value in the list\n",
        "\n",
        "info =[345,44,233,None,'kal',67.56]\n",
        "sum=0\n",
        "\n",
        "for x in info:\n",
        "  if type(x)==int or type(x)==float:\n",
        "    sum=sum+x\n",
        "  else:\n",
        "    continue   # means skip\n",
        "\n",
        "print(sum)\n"
      ],
      "metadata": {
        "colab": {
          "base_uri": "https://localhost:8080/"
        },
        "id": "hEk4V1XefMXo",
        "outputId": "2662bbd7-a2be-46a4-f6b7-5fa1048f2a41"
      },
      "execution_count": null,
      "outputs": [
        {
          "output_type": "stream",
          "name": "stdout",
          "text": [
            "689.56\n"
          ]
        }
      ]
    },
    {
      "cell_type": "code",
      "execution_count": null,
      "metadata": {
        "id": "gH8f1F7fZPTf",
        "colab": {
          "base_uri": "https://localhost:8080/"
        },
        "outputId": "da05a905-49c1-4da5-fc1b-4f9f65f32feb"
      },
      "outputs": [
        {
          "output_type": "execute_result",
          "data": {
            "text/plain": [
              "[0, 2, 4, 6, 8, 10, 12, 14]"
            ]
          },
          "metadata": {},
          "execution_count": 19
        }
      ],
      "source": [
        "#List Comprehension\n",
        "newL2=[x for x in range(15) if x%2==0]  #first x is return value\n",
        "newL2"
      ]
    },
    {
      "cell_type": "code",
      "execution_count": null,
      "metadata": {
        "id": "RVjITiHjcNwS",
        "colab": {
          "base_uri": "https://localhost:8080/"
        },
        "outputId": "f13b097b-b41a-4397-e6bf-9d7c167d49db"
      },
      "outputs": [
        {
          "output_type": "execute_result",
          "data": {
            "text/plain": [
              "[0,\n",
              " 'Odd',\n",
              " 2,\n",
              " 'Odd',\n",
              " 4,\n",
              " 'Odd',\n",
              " 6,\n",
              " 'Odd',\n",
              " 8,\n",
              " 'Odd',\n",
              " 10,\n",
              " 'Odd',\n",
              " 12,\n",
              " 'Odd',\n",
              " 14,\n",
              " 'Odd',\n",
              " 16,\n",
              " 'Odd',\n",
              " 18,\n",
              " 'Odd']"
            ]
          },
          "metadata": {},
          "execution_count": 5
        }
      ],
      "source": [
        "#List Comprehension\n",
        "result=[x if x%2==0 else 'Odd' for x in range(20)] # if else\n",
        "result"
      ]
    },
    {
      "cell_type": "code",
      "execution_count": null,
      "metadata": {
        "id": "9KV2m5Y3cr5W",
        "colab": {
          "base_uri": "https://localhost:8080/"
        },
        "outputId": "ecc45c65-e5a2-4ce9-981e-ca56734f8a2d"
      },
      "outputs": [
        {
          "output_type": "execute_result",
          "data": {
            "text/plain": [
              "[200, 400, 600, 400, 800, 1200, 800, 1600, 2400]"
            ]
          },
          "metadata": {},
          "execution_count": 6
        }
      ],
      "source": [
        "mylist=[x*y for x in[2,4,8] for y in[100,200,300]]# nested loops\n",
        "mylist"
      ]
    },
    {
      "cell_type": "code",
      "source": [
        "words=['closed','complete','closed','closed','complete','closed']\n",
        "\n",
        "words_counts = {word: words.count(word)  for word in set(words)}\n",
        "print(words_counts)"
      ],
      "metadata": {
        "colab": {
          "base_uri": "https://localhost:8080/"
        },
        "id": "c8ysCkX1zTmu",
        "outputId": "b45a2ef5-1054-4b9b-e27e-f65ca4fea41a"
      },
      "execution_count": null,
      "outputs": [
        {
          "output_type": "stream",
          "name": "stdout",
          "text": [
            "{'complete': 2, 'closed': 4}\n"
          ]
        }
      ]
    },
    {
      "cell_type": "code",
      "source": [
        "#print l1 list in flaterned form(in 1 list only)\n",
        "\n",
        "l1=[[1,1,1],[2,4,8],[3,9,27]]\n",
        "l2=[]\n",
        "for x in l1:\n",
        "  for y in x:\n",
        "    l2.append(y)\n",
        "\n",
        "\n",
        "print(l2)"
      ],
      "metadata": {
        "colab": {
          "base_uri": "https://localhost:8080/"
        },
        "id": "8qmIA-jkmseG",
        "outputId": "cd6b4e7e-f257-4011-c539-0dee11288251"
      },
      "execution_count": null,
      "outputs": [
        {
          "output_type": "stream",
          "name": "stdout",
          "text": [
            "[1, 1, 1, 2, 4, 8, 3, 9, 27]\n"
          ]
        }
      ]
    },
    {
      "cell_type": "code",
      "source": [
        "#Unpacking\n",
        "\n",
        "order = [21,\"21-03-2025\",3213,\"delivered\"]\n",
        "o_id,date,price,status=order          #automatically creates var for each data,  very usefull\n",
        "print(price)\n"
      ],
      "metadata": {
        "colab": {
          "base_uri": "https://localhost:8080/"
        },
        "id": "31QcTOBO9QK1",
        "outputId": "ef96206e-8fc7-4d47-f540-20a4ffe434b5"
      },
      "execution_count": null,
      "outputs": [
        {
          "output_type": "stream",
          "name": "stdout",
          "text": [
            "3213\n"
          ]
        }
      ]
    },
    {
      "cell_type": "code",
      "execution_count": null,
      "metadata": {
        "id": "p2oYj79N4ma7",
        "colab": {
          "base_uri": "https://localhost:8080/"
        },
        "outputId": "8f7944d7-0330-422f-e269-c45b26e79d70"
      },
      "outputs": [
        {
          "output_type": "stream",
          "name": "stdout",
          "text": [
            "0\n",
            "{'id': 1, 'name': 'Rohan', 'marks': 95}\n",
            "1\n",
            "{'id': 3, 'name': 'Rohit', 'marks': 55}\n"
          ]
        }
      ],
      "source": [
        "#Enumraete - num will separate inddex and value.\n",
        "#op example for solving dict in list (ENUMERATE) for seperating them\n",
        "\n",
        "student_data=[{'id':1,'name':'Rohan','marks':95},{'id':3,'name':'Rohit','marks':55}]\n",
        "for indx, stud in enumerate(student_data):\n",
        "  print(indx)\n",
        "  print(stud)"
      ]
    },
    {
      "cell_type": "code",
      "source": [
        "#FIND AVG salary OF each Deparetment IN LIST\n",
        "\n",
        "data=[\n",
        "    [101,\"John\",\"IT\",80000],\n",
        "    [102,\"Jane\",\"HR\",45000],\n",
        "    [103,\"Bob\",\"IT\",70000],\n",
        "    [104,\"Alice\",\"HR\",35000],\n",
        "]\n",
        "\n",
        "dept_stats = {}\n",
        "\n",
        "# Sum salaries and count employees per department\n",
        "for emp in data:\n",
        "    dept, salary = emp[2], emp[3]\n",
        "    if dept not in dept_stats:\n",
        "        dept_stats[dept] = {'sum': 0, 'count': 0}\n",
        "    dept_stats[dept]['sum'] += salary\n",
        "    dept_stats[dept]['count'] += 1\n",
        "\n",
        "\n",
        "\n",
        "print(dept_stats)\n",
        "\n",
        "for dept, stats in dept_stats.items():\n",
        "    avg = stats['sum'] / stats['count']\n",
        "    print(f\"{dept}: ${avg:.2f}\")\n"
      ],
      "metadata": {
        "id": "xUnAhnF__8Lq"
      },
      "execution_count": null,
      "outputs": []
    },
    {
      "cell_type": "code",
      "execution_count": null,
      "metadata": {
        "id": "bz00ztucDUd0"
      },
      "outputs": [],
      "source": [
        "str= 'hi how are you'\n",
        "str2=str.split(' ')\n",
        "i=0\n",
        "while i<len(str2):\n",
        "  if(i%2==0):\n",
        "    str2[i]=str2[i].capitalize()  #first letter cap\n",
        "\n",
        "  else:\n",
        "    str2[i]=str2[i] =str2[i][::-1]\n",
        "  i+=1\n",
        "\n",
        "op=' '.join(str2) #for making it string it will join everything to ' '\n",
        "print(op)"
      ]
    },
    {
      "cell_type": "code",
      "execution_count": null,
      "metadata": {
        "id": "X0EdY0tuQyLN",
        "colab": {
          "base_uri": "https://localhost:8080/"
        },
        "outputId": "7d685160-95ed-4f4c-9060-b0fc817b8fd9"
      },
      "outputs": [
        {
          "output_type": "stream",
          "name": "stdout",
          "text": [
            "Apple*23*hello\n"
          ]
        }
      ],
      "source": [
        "l=['Apple','23','hello']\n",
        "s1='*'.join(l)\n",
        "print(s1)"
      ]
    },
    {
      "cell_type": "code",
      "execution_count": null,
      "metadata": {
        "id": "0XVLzRfSeobM",
        "colab": {
          "base_uri": "https://localhost:8080/"
        },
        "outputId": "7d3df772-0349-4d87-9b84-4c87f26f39c1"
      },
      "outputs": [
        {
          "output_type": "stream",
          "name": "stdout",
          "text": [
            "1*1=1\t1*2=2\t1*3=3\t1*4=4\t1*5=5\t1*6=6\t\n",
            "2*1=2\t2*2=4\t2*3=6\t2*4=8\t2*5=10\t2*6=12\t\n",
            "3*1=3\t3*2=6\t3*3=9\t3*4=12\t3*5=15\t3*6=18\t\n",
            "4*1=4\t4*2=8\t4*3=12\t4*4=16\t4*5=20\t4*6=24\t\n",
            "5*1=5\t5*2=10\t5*3=15\t5*4=20\t5*5=25\t5*6=30\t\n",
            "6*1=6\t6*2=12\t6*3=18\t6*4=24\t6*5=30\t6*6=36\t\n",
            "7*1=7\t7*2=14\t7*3=21\t7*4=28\t7*5=35\t7*6=42\t\n",
            "8*1=8\t8*2=16\t8*3=24\t8*4=32\t8*5=40\t8*6=48\t\n",
            "9*1=9\t9*2=18\t9*3=27\t9*4=36\t9*5=45\t9*6=54\t\n",
            "10*1=10\t10*2=20\t10*3=30\t10*4=40\t10*5=50\t10*6=60\t\n"
          ]
        }
      ],
      "source": [
        "for n in range(1,11):\n",
        "    for i in range(1,7):\n",
        "        print(f\"{n}*{i}={n*i}\", end='\\t')\n",
        "    print()"
      ]
    },
    {
      "cell_type": "code",
      "execution_count": null,
      "metadata": {
        "id": "7Xj5BTlFfjgA",
        "colab": {
          "base_uri": "https://localhost:8080/"
        },
        "outputId": "f87a3b2e-a23b-4f16-d4f2-35d24f08661d"
      },
      "outputs": [
        {
          "output_type": "stream",
          "name": "stdout",
          "text": [
            "Enter a number19\n",
            "prime number\n"
          ]
        }
      ],
      "source": [
        "n=int(input(\"Enter a number\"))\n",
        "# 0,1 are not prime\n",
        "\n",
        "for i in range(2,n):\n",
        "    if n%i==0:\n",
        "        print(\"not a prime number\")\n",
        "        break\n",
        "else:                         #else imp imp\n",
        "    print(\"prime number\")\n"
      ]
    },
    {
      "cell_type": "code",
      "execution_count": null,
      "metadata": {
        "colab": {
          "base_uri": "https://localhost:8080/"
        },
        "id": "YWTcgt17lCq0",
        "outputId": "b308d66c-7c71-47f4-f118-984fbffe604c"
      },
      "outputs": [
        {
          "name": "stdout",
          "output_type": "stream",
          "text": [
            "Prime\n"
          ]
        }
      ],
      "source": [
        "def isprime(num):\n",
        "  i=2\n",
        "  while i<num:\n",
        "    if num%i==0:\n",
        "      print('Not Prime')\n",
        "      break\n",
        "    i+=1\n",
        "  else:                    # ye else yaad rkhna imp imp imp\n",
        "    print('Prime')\n",
        "\n",
        "isprime(19)"
      ]
    },
    {
      "cell_type": "code",
      "execution_count": null,
      "metadata": {
        "id": "c-ofWBUKfAch"
      },
      "outputs": [],
      "source": [
        "def calculate_total(flower_price, purchase_qty):\n",
        "    bill=0\n",
        "    for flower in purchase_qty:\n",
        "        q=purchase_qty[flower]\n",
        "        p=flower_price[flower]\n",
        "        bill=bill+p*q\n",
        "    print(\"your total is \", bill)\n",
        "    return bill\n",
        "\n",
        "fp={'Rose':15,'Lotus':50,'Orchids':60,'Marigold':10,'Sunflower':20}\n",
        "pq={'Rose':2,'Lotus':30}\n",
        "\n",
        "amt=calculate_total(fp,pq)\n",
        "print(\"Amount is \", amt)"
      ]
    },
    {
      "cell_type": "code",
      "execution_count": null,
      "metadata": {
        "id": "WCFBO8jhuvjD"
      },
      "outputs": [],
      "source": [
        "#Given a string of digits, find the digits which not present in the string\n",
        "str = \"78451258743125478\"\n",
        "set1=set()\n",
        "all_digits = \"0123456789\"\n",
        "for j in all_digits: # yaha alldigit isliye kyuki string to string compare krna hai\n",
        "  if j not in str:  # not in ka use kroo\n",
        "    set1.add(j)\n",
        "print(set1)"
      ]
    },
    {
      "cell_type": "code",
      "execution_count": null,
      "metadata": {
        "id": "svgvjZEc4RF0",
        "colab": {
          "base_uri": "https://localhost:8080/"
        },
        "outputId": "bf290da5-1251-4000-fad4-3c99f66b2744"
      },
      "outputs": [
        {
          "output_type": "execute_result",
          "data": {
            "text/plain": [
              "{'0', '6', '9'}"
            ]
          },
          "metadata": {},
          "execution_count": 32
        }
      ],
      "source": [
        "#chat gpt ki mkc\n",
        "str = \"78451258743125478\"\n",
        "all_digits = set(\"0123456789\")\n",
        "present_digits = set(str)\n",
        "missing_digits = all_digits - present_digits\n",
        "missing_digits"
      ]
    },
    {
      "cell_type": "code",
      "execution_count": null,
      "metadata": {
        "id": "4Q-a_ESMEq0J"
      },
      "outputs": [],
      "source": [
        "#example-Write a python functions to add student details passed as a dictionary (rollno, name, marks) into a list.\n",
        "#if similar data already exists, return the index only, else add that data at the end of the list.\n",
        "#Once the details are added, return the index of that student for reference purpose.\n",
        "\n",
        "student_data=[{'id':1,'name':'Rohan','marks':95}] #1 student record already present\n",
        "def add_data(data):\n",
        "  for i,stud in enumerate(student_data):\n",
        "    if data['id']==stud['id']:\n",
        "      return i\n",
        "  else:\n",
        "    student_data.append(data)\n",
        "    return student_data.index(data)\n",
        "\n",
        "print('Hi, please enter the student details for 5 students')\n",
        "for i in range(3):\n",
        "  id=int(input())\n",
        "  name=input()\n",
        "  marks=int(input())\n",
        "  data={'id':id, 'name':name, 'marks':marks}\n",
        "  reg_no=add_data(data)\n",
        "  print(reg_no)"
      ]
    },
    {
      "cell_type": "code",
      "execution_count": null,
      "metadata": {
        "id": "v4NC2uwskvFj"
      },
      "outputs": [],
      "source": [
        "#The function should print final total irrespective of number of scores passed\n",
        "\n",
        "def total_scores(player_name, *scores):   # *scores takes tuple of arg of any size we want\n",
        "    total_score = sum(scores)\n",
        "    print(f\"{player_name} has a total score of {total_score}\")\n",
        "\n",
        "total_scores('Nayan', 87, 67, 56)\n",
        "total_scores('Navin', 87, 43)\n",
        "total_scores('Neha', 95)"
      ]
    },
    {
      "cell_type": "code",
      "execution_count": null,
      "metadata": {
        "id": "nYjcIFPUXoNV"
      },
      "outputs": [],
      "source": [
        "def ex(*args):\n",
        "  print(sum(args))\n",
        "\n",
        "ex(23,45,22,200)"
      ]
    },
    {
      "cell_type": "code",
      "execution_count": null,
      "metadata": {
        "colab": {
          "base_uri": "https://localhost:8080/"
        },
        "id": "2QiJgiwTY1d_",
        "outputId": "50b5f07a-99e3-46de-a02e-3ce2fd61937d"
      },
      "outputs": [
        {
          "output_type": "stream",
          "name": "stdout",
          "text": [
            "{'fruit': 'apple', 'car': 'BMW'}\n",
            "My car BMW is in the list\n"
          ]
        }
      ],
      "source": [
        "def ex1(**kwargs):  # Here ** is a key word arg means it will work as a dict,you can have any size.\n",
        "  print(kwargs)\n",
        "  if 'car' in kwargs:\n",
        "    print('My car {} is in the list'.format(kwargs['car']))\n",
        "\n",
        "ex1(fruit='apple',car='BMW')"
      ]
    },
    {
      "cell_type": "code",
      "source": [
        "x=50\n",
        "\n",
        "def funx(x):\n",
        "  print(f'X is {x}')\n",
        "\n",
        "  x=89                    #local reassingment no effect on global var\n",
        "  print(f'I just locally changed X to {x}')\n",
        "\n",
        "funx(x)\n",
        "print(x)"
      ],
      "metadata": {
        "colab": {
          "base_uri": "https://localhost:8080/"
        },
        "id": "H6ineJQ47FDR",
        "outputId": "26b21463-5035-4a34-d25d-31c919fd3a35"
      },
      "execution_count": null,
      "outputs": [
        {
          "output_type": "stream",
          "name": "stdout",
          "text": [
            "X is 50\n",
            "I just locally changed X to 89\n",
            "50\n"
          ]
        }
      ]
    },
    {
      "cell_type": "code",
      "source": [
        "x=50\n",
        "\n",
        "def funx():\n",
        "  global x                # ye likhne se global var ko change kr skate hai locally with permanent effect\n",
        "  print(f'X is {x}')\n",
        "\n",
        "  x='Zodiac'              #Local reassingment of global var\n",
        "  print(f'I just locally changed global X to {x}')\n",
        "\n",
        "funx()\n",
        "print(x)"
      ],
      "metadata": {
        "colab": {
          "base_uri": "https://localhost:8080/"
        },
        "id": "3Bzd1QvL8TRq",
        "outputId": "1bdb23a9-029b-41d9-f491-72785dee919d"
      },
      "execution_count": null,
      "outputs": [
        {
          "output_type": "stream",
          "name": "stdout",
          "text": [
            "X is 50\n",
            "I just locally changed global X to Zodiac\n",
            "Zodiac\n"
          ]
        }
      ]
    },
    {
      "cell_type": "code",
      "execution_count": null,
      "metadata": {
        "colab": {
          "base_uri": "https://localhost:8080/"
        },
        "id": "dHSKptyhEMbp",
        "outputId": "d33f5b02-6414-4bca-b0ae-b4482daa0281"
      },
      "outputs": [
        {
          "output_type": "stream",
          "name": "stdout",
          "text": [
            "8\n"
          ]
        }
      ],
      "source": [
        "#lambda ternary\n",
        "#lambda function is a small anonymous function.\n",
        "#A lambda function can take any number of arguments, but can only have one expression.\n",
        "\n",
        "greater=lambda n1,n2:n1 if n1>n2 else n2\n",
        "print(greater(8,6))"
      ]
    },
    {
      "cell_type": "code",
      "execution_count": null,
      "metadata": {
        "id": "T4iwbZeyKkyL"
      },
      "outputs": [],
      "source": [
        "#Higher Order Func -MAP\n",
        "dic= [{'gender': 'm', 'age': 20},\n",
        "{'gender': 'f', 'age': 21},\n",
        "{'gender': 'm', 'age': 22}]\n",
        "\n",
        "re = list(map(lambda x: x[\"age\"],dic))    #x is arg  dic is obj\n",
        "\n",
        "print(re)"
      ]
    },
    {
      "cell_type": "code",
      "execution_count": null,
      "metadata": {
        "id": "7LDfrWi-LhPd",
        "colab": {
          "base_uri": "https://localhost:8080/"
        },
        "outputId": "708ec0c2-d935-4c86-d4ae-4bc191df4b4d"
      },
      "outputs": [
        {
          "output_type": "stream",
          "name": "stdout",
          "text": [
            "[{'gender': 'm', 'age': 20}, {'gender': 'm', 'age': 22}]\n"
          ]
        }
      ],
      "source": [
        "#Higher Order Func -FILTER\n",
        "dic= [{'gender': 'm', 'age': 20},\n",
        "{'gender': 'f', 'age': 21},\n",
        "{'gender': 'm', 'age': 22}]\n",
        "\n",
        "re = list(filter(lambda x:x['gender']=='m',dic))\n",
        "print(re)"
      ]
    },
    {
      "cell_type": "code",
      "execution_count": null,
      "metadata": {
        "id": "yeVwn-wzQ2eJ"
      },
      "outputs": [],
      "source": [
        "#Higher Order Func -Reduce\n",
        "from functools import reduce\n",
        "\n",
        "weight_pounds = (173, 152, 205, 119, 250)  #here it will take first 2 iteam and then result of it with next item.\n",
        "result=reduce(lambda x,y: x if x>y else y,weight_pounds)\n",
        "print(\"Maximum weight in pounds:\",result)"
      ]
    },
    {
      "cell_type": "code",
      "source": [
        "#OP QUES\n",
        "#Given a list of dictionaries containing information about students (name, age, grade), use lambda and reduce functions to find the average grade of all students.\n",
        "#code goes here\n",
        "from functools import reduce\n",
        "students = [ {\"name\": \"John\", \"age\": 20, \"grade\": 85}, {\"name\": \"Jane\", \"age\": 21, \"grade\": 90}, {\"name\": \"Bob\", \"age\": 19, \"grade\": 75},\n",
        "{\"name\": \"Alice\", \"age\": 22, \"grade\": 95} ]\n",
        "qw=reduce(lambda x,z:x+z['grade'],students,0)\n",
        "print('Average value:',qw/len(students))"
      ],
      "metadata": {
        "id": "IELfPVsfN_CY",
        "colab": {
          "base_uri": "https://localhost:8080/"
        },
        "outputId": "76977943-51a7-4dbc-809d-9bd8f47d1642"
      },
      "execution_count": null,
      "outputs": [
        {
          "output_type": "stream",
          "name": "stdout",
          "text": [
            "Average value: 86.25\n"
          ]
        }
      ]
    },
    {
      "cell_type": "markdown",
      "source": [
        "Note---- By providing an initial value of 0, we ensure that the reduction operation starts with a base value of 0. This is important because if the students list is empty, the reduction would return the initial value itself. In this case, if there are no students, the average grade would be 0 instead of throwing an error or returning None."
      ],
      "metadata": {
        "id": "K00UYd4SBHU1"
      }
    },
    {
      "cell_type": "code",
      "source": [
        "people= [\n",
        "    {\"name\": \"John\", \"age\": 25, \"gender\": \"male\"},\n",
        "    {\"name\": \"Emily\", \"age\": 35, \"gender\": \"female\"},\n",
        "    {\"name\": \"Alex\", \"age\": 28, \"gender\": \"male\"},\n",
        "    {\"name\": \"Sarah\", \"age\": 30, \"gender\": \"female\"},\n",
        "    {\"name\": \"Max\", \"age\": 42, \"gender\": \"male\"},\n",
        "]\n",
        "\n",
        "new= list(filter(lambda x: x['age']>=30,people))\n",
        "op=list(map(lambda c:'Mr. '+c['name'] if c['gender']=='male' else 'Mrs. '+c['name'],new))\n",
        "print(op)\n"
      ],
      "metadata": {
        "colab": {
          "base_uri": "https://localhost:8080/"
        },
        "id": "fwHjMQI1CeUJ",
        "outputId": "0b5cecb2-8ec0-4d24-cc08-637cfa199771"
      },
      "execution_count": null,
      "outputs": [
        {
          "output_type": "stream",
          "name": "stdout",
          "text": [
            "['Mrs. Emily', 'Mrs. Sarah', 'Mr. Max']\n"
          ]
        }
      ]
    },
    {
      "cell_type": "code",
      "source": [
        "#OP QUES\n",
        "students = [\n",
        "    {\"name\": \"John\", \"marks\": 80},\n",
        "    {\"name\": \"Jane\", \"marks\": 45},\n",
        "    {\"name\": \"Bob\", \"marks\": 70},\n",
        "    {\"name\": \"Alice\", \"marks\": 35},\n",
        "]\n",
        "\n",
        "result = list(map(lambda student: {**student, 'status': 'pass' if student['marks'] >= 60 else 'fail'}, students))\n",
        "\n",
        "# Inside the lambda function, we use a dictionary comprehension  to create a new dictionary with all the key-value pairs\n",
        "#from the original student dictionary, along with a new 'status' key-value pair based on the marks.\n",
        "#** student se baki ke sare keys aenge phir hum status ke liye liknge condition\n",
        "print(result)"
      ],
      "metadata": {
        "id": "PmCPkzfvGaP1"
      },
      "execution_count": null,
      "outputs": []
    },
    {
      "cell_type": "code",
      "source": [
        "#Numpy\n",
        "import numpy as np\n",
        "\n",
        "sd=np.random.randn(3,3)\n",
        "new1=sd[sd[:, 1].argsort()]\n",
        "print(sd)\n",
        "print(new1)"
      ],
      "metadata": {
        "id": "jf6rs_l906mP"
      },
      "execution_count": null,
      "outputs": []
    },
    {
      "cell_type": "code",
      "source": [
        "#reshape\n",
        "import numpy as nu\n",
        "\n",
        "er=nu.array([[1,2,3],[4,5,6],[7,8,9]])\n",
        "nw=er.reshape(-1)\n",
        "#When you use reshape(-1), NumPy automatically determines the size of one dimension in such a way that the resulting reshaped array\n",
        "# has the same total number of elements as the original array.\n",
        "print(er)\n",
        "print(nw)"
      ],
      "metadata": {
        "colab": {
          "base_uri": "https://localhost:8080/"
        },
        "id": "brv0IO3RARnJ",
        "outputId": "7a21cfd6-55b6-445e-d6a6-be2e2e5718a0"
      },
      "execution_count": null,
      "outputs": [
        {
          "output_type": "stream",
          "name": "stdout",
          "text": [
            "[[1 2 3]\n",
            " [4 5 6]\n",
            " [7 8 9]]\n",
            "[1 2 3 4 5 6 7 8 9]\n"
          ]
        }
      ]
    },
    {
      "cell_type": "code",
      "source": [
        "#Arange\n",
        "import numpy as np\n",
        "we=np.arange(1,0,-0.1)\n",
        "print(we)"
      ],
      "metadata": {
        "colab": {
          "base_uri": "https://localhost:8080/"
        },
        "id": "PI-lPCkGESwz",
        "outputId": "fad14c66-0dbc-4a33-9299-cf4ad091074f"
      },
      "execution_count": null,
      "outputs": [
        {
          "output_type": "stream",
          "name": "stdout",
          "text": [
            "[1.  0.9 0.8 0.7 0.6 0.5 0.4 0.3 0.2 0.1]\n"
          ]
        }
      ]
    },
    {
      "cell_type": "code",
      "source": [
        "#Transpose\n",
        "import numpy as np\n",
        "a = np.array([[5,6,7,4], [9,2,3,7]]).transpose()\n",
        "print(a)"
      ],
      "metadata": {
        "id": "rj5gpKM7HI-H"
      },
      "execution_count": null,
      "outputs": []
    },
    {
      "cell_type": "code",
      "source": [
        "#stacked array\n",
        "import numpy as np\n",
        "a = np.array([1, 2, 3, 4])\n",
        "b = np.array([10, 11, 12, 13])\n",
        "stck=np.hstack((a,b))      #vstack is also there\n",
        "#The np.hstack() function takes a tuple of arrays as an argument and returns a new array that contains the arrays stacked horizontally.\n",
        "print(stck)"
      ],
      "metadata": {
        "colab": {
          "base_uri": "https://localhost:8080/"
        },
        "id": "QHkWoQ5eHFwJ",
        "outputId": "c3a813fd-9936-4cb1-d640-5af120345972"
      },
      "execution_count": null,
      "outputs": [
        {
          "output_type": "stream",
          "name": "stdout",
          "text": [
            "[ 1  2  3  4 10 11 12 13]\n"
          ]
        }
      ]
    },
    {
      "cell_type": "code",
      "source": [
        "#flip\n",
        "import numpy as np\n",
        "a = np.array([[1,2,3,4,5], [6,7,8,9,10]])\n",
        "stck=np.flip(a,axis=0)\n",
        "stck1=np.flip(a,axis=1)\n",
        "print(a,'\\n')\n",
        "print(stck,'\\n')\n",
        "print(stck1)"
      ],
      "metadata": {
        "colab": {
          "base_uri": "https://localhost:8080/"
        },
        "id": "ia41YEuSLpPV",
        "outputId": "b079c53d-4b4c-4d42-cd36-6b326dd7e4e3"
      },
      "execution_count": null,
      "outputs": [
        {
          "output_type": "stream",
          "name": "stdout",
          "text": [
            "[[ 1  2  3  4  5]\n",
            " [ 6  7  8  9 10]] \n",
            "\n",
            "[[ 6  7  8  9 10]\n",
            " [ 1  2  3  4  5]] \n",
            "\n",
            "[[ 5  4  3  2  1]\n",
            " [10  9  8  7  6]]\n"
          ]
        }
      ]
    },
    {
      "cell_type": "code",
      "source": [
        "#split v /h\n",
        "import numpy as np\n",
        "aw= np.arange(16).reshape(4,4)\n",
        "we=np.hsplit(aw,2)\n",
        "print(aw)\n",
        "print(we)"
      ],
      "metadata": {
        "colab": {
          "base_uri": "https://localhost:8080/"
        },
        "id": "B7B3w6Ekd2mO",
        "outputId": "2de3bf31-58b4-4832-eb8b-0b57732deafa"
      },
      "execution_count": null,
      "outputs": [
        {
          "output_type": "stream",
          "name": "stdout",
          "text": [
            "[[ 0  1  2  3]\n",
            " [ 4  5  6  7]\n",
            " [ 8  9 10 11]\n",
            " [12 13 14 15]]\n",
            "[array([[ 0,  1],\n",
            "       [ 4,  5],\n",
            "       [ 8,  9],\n",
            "       [12, 13]]), array([[ 2,  3],\n",
            "       [ 6,  7],\n",
            "       [10, 11],\n",
            "       [14, 15]])]\n"
          ]
        }
      ]
    },
    {
      "cell_type": "code",
      "source": [
        "import pandas as pd\n",
        "\n",
        "df=pd.DataFrame([34,22],[65,33],columns=['c1','c2'])\n",
        "print(df)"
      ],
      "metadata": {
        "id": "I5bgYkpjHHYE"
      },
      "execution_count": null,
      "outputs": []
    },
    {
      "cell_type": "code",
      "source": [
        "t1 = timedelta(days=370, hours = 15, minutes = 46)\n",
        "print(t1)\n",
        "\n",
        "from datetime import datetime\n",
        "time_now = datetime.now()\n",
        "print(time_now)\n",
        "\n",
        "future_date1 = time_now + t1\n",
        "print(future_date1)"
      ],
      "metadata": {
        "id": "cZFVe22ZN1xh"
      },
      "execution_count": null,
      "outputs": []
    },
    {
      "cell_type": "code",
      "source": [
        "#Matplotlib\n",
        "from matplotlib import pyplot as plt\n",
        "import numpy as np\n",
        "\n",
        "a1=np.array([1950, 1960, 1970, 1980, 1990])\n",
        "a2=np.array([50.8, 65.9, 75.8, 92.6, 125.8])\n",
        "plt.title(\"growth\")\n",
        "plt.plot(a1,a2)\n",
        "plt.show()"
      ],
      "metadata": {
        "colab": {
          "base_uri": "https://localhost:8080/",
          "height": 452
        },
        "id": "1Nl-9R-k3ZXp",
        "outputId": "ef6f82b1-ec2c-498d-a039-45111dc23700"
      },
      "execution_count": null,
      "outputs": [
        {
          "output_type": "display_data",
          "data": {
            "text/plain": [
              "<Figure size 640x480 with 1 Axes>"
            ],
            "image/png": "[encoded data removed]"
          },
          "metadata": {}
        }
      ]
    },
    {
      "cell_type": "code",
      "source": [
        "Year = [1950, 1960, 1970, 1980, 1990]\n",
        "GDP = [50.8, 65.9, 75.8, 92.6, 125.8]\n",
        "plt.title(\"Growth\")\n",
        "plt.xlabel('Year')\n",
        "plt.ylabel('GDP')\n",
        "plt.plot(Year, GDP, marker = 's', color = 'g',ms=14,lw=5)\n",
        "plt.show()"
      ],
      "metadata": {
        "colab": {
          "base_uri": "https://localhost:8080/",
          "height": 472
        },
        "id": "_Uk3__Ot5kNH",
        "outputId": "11c72a03-e581-40d0-aece-16ba4ecfd302"
      },
      "execution_count": null,
      "outputs": [
        {
          "output_type": "display_data",
          "data": {
            "text/plain": [
              "<Figure size 640x480 with 1 Axes>"
            ],
            "image/png": "[encoded data removed]"
          },
          "metadata": {}
        }
      ]
    },
    {
      "cell_type": "code",
      "source": [
        "\n",
        "import pandas as pd\n",
        "import numpy as np\n",
        "from matplotlib import pyplot as plt\n",
        "\n",
        "mtcar= pd.read_csv('mtcars.csv')\n",
        "mtcar.head()\n"
      ],
      "metadata": {
        "colab": {
          "base_uri": "https://localhost:8080/",
          "height": 206
        },
        "id": "d5Y1QLWJIm6Q",
        "outputId": "619fee17-4e3e-4b3d-ad69-adab90197beb"
      },
      "execution_count": null,
      "outputs": [
        {
          "output_type": "execute_result",
          "data": {
            "text/plain": [
              "    mpg  cyl   disp   hp  drat     wt   qsec  vs  am  gear  carb\n",
              "0  21.0    6  160.0  110  3.90  2.620  16.46   0   1     4     4\n",
              "1  21.0    6  160.0  110  3.90  2.875  17.02   0   1     4     4\n",
              "2  22.8    4  108.0   93  3.85  2.320  18.61   1   1     4     1\n",
              "3  21.4    6  258.0  110  3.08  3.215  19.44   1   0     3     1\n",
              "4  18.7    8  360.0  175  3.15  3.440  17.02   0   0     3     2"
            ],
            "text/html": [
              "\n",
              "\n",
              "  <div id=\"df-c16b8f6e-42c2-4476-b5e0-d7df966e4961\">\n",
              "    <div class=\"colab-df-container\">\n",
              "      <div>\n",
              "<style scoped>\n",
              "    .dataframe tbody tr th:only-of-type {\n",
              "        vertical-align: middle;\n",
              "    }\n",
              "\n",
              "    .dataframe tbody tr th {\n",
              "        vertical-align: top;\n",
              "    }\n",
              "\n",
              "    .dataframe thead th {\n",
              "        text-align: right;\n",
              "    }\n",
              "</style>\n",
              "<table border=\"1\" class=\"dataframe\">\n",
              "  <thead>\n",
              "    <tr style=\"text-align: right;\">\n",
              "      <th></th>\n",
              "      <th>mpg</th>\n",
              "      <th>cyl</th>\n",
              "      <th>disp</th>\n",
              "      <th>hp</th>\n",
              "      <th>drat</th>\n",
              "      <th>wt</th>\n",
              "      <th>qsec</th>\n",
              "      <th>vs</th>\n",
              "      <th>am</th>\n",
              "      <th>gear</th>\n",
              "      <th>carb</th>\n",
              "    </tr>\n",
              "  </thead>\n",
              "  <tbody>\n",
              "    <tr>\n",
              "      <th>0</th>\n",
              "      <td>21.0</td>\n",
              "      <td>6</td>\n",
              "      <td>160.0</td>\n",
              "      <td>110</td>\n",
              "      <td>3.90</td>\n",
              "      <td>2.620</td>\n",
              "      <td>16.46</td>\n",
              "      <td>0</td>\n",
              "      <td>1</td>\n",
              "      <td>4</td>\n",
              "      <td>4</td>\n",
              "    </tr>\n",
              "    <tr>\n",
              "      <th>1</th>\n",
              "      <td>21.0</td>\n",
              "      <td>6</td>\n",
              "      <td>160.0</td>\n",
              "      <td>110</td>\n",
              "      <td>3.90</td>\n",
              "      <td>2.875</td>\n",
              "      <td>17.02</td>\n",
              "      <td>0</td>\n",
              "      <td>1</td>\n",
              "      <td>4</td>\n",
              "      <td>4</td>\n",
              "    </tr>\n",
              "    <tr>\n",
              "      <th>2</th>\n",
              "      <td>22.8</td>\n",
              "      <td>4</td>\n",
              "      <td>108.0</td>\n",
              "      <td>93</td>\n",
              "      <td>3.85</td>\n",
              "      <td>2.320</td>\n",
              "      <td>18.61</td>\n",
              "      <td>1</td>\n",
              "      <td>1</td>\n",
              "      <td>4</td>\n",
              "      <td>1</td>\n",
              "    </tr>\n",
              "    <tr>\n",
              "      <th>3</th>\n",
              "      <td>21.4</td>\n",
              "      <td>6</td>\n",
              "      <td>258.0</td>\n",
              "      <td>110</td>\n",
              "      <td>3.08</td>\n",
              "      <td>3.215</td>\n",
              "      <td>19.44</td>\n",
              "      <td>1</td>\n",
              "      <td>0</td>\n",
              "      <td>3</td>\n",
              "      <td>1</td>\n",
              "    </tr>\n",
              "    <tr>\n",
              "      <th>4</th>\n",
              "      <td>18.7</td>\n",
              "      <td>8</td>\n",
              "      <td>360.0</td>\n",
              "      <td>175</td>\n",
              "      <td>3.15</td>\n",
              "      <td>3.440</td>\n",
              "      <td>17.02</td>\n",
              "      <td>0</td>\n",
              "      <td>0</td>\n",
              "      <td>3</td>\n",
              "      <td>2</td>\n",
              "    </tr>\n",
              "  </tbody>\n",
              "</table>\n",
              "</div>\n",
              "      <button class=\"colab-df-convert\" onclick=\"convertToInteractive('df-c16b8f6e-42c2-4476-b5e0-d7df966e4961')\"\n",
              "              title=\"Convert this dataframe to an interactive table.\"\n",
              "              style=\"display:none;\">\n",
              "\n",
              "  <svg xmlns=\"http://www.w3.org/2000/svg\" height=\"24px\"viewBox=\"0 0 24 24\"\n",
              "       width=\"24px\">\n",
              "    <path d=\"M0 0h24v24H0V0z\" fill=\"none\"/>\n",
              "    <path d=\"M18.56 5.44l.94 2.06.94-2.06 2.06-.94-2.06-.94-.94-2.06-.94 2.06-2.06.94zm-11 1L8.5 8.5l.94-2.06 2.06-.94-2.06-.94L8.5 2.5l-.94 2.06-2.06.94zm10 10l.94 2.06.94-2.06 2.06-.94-2.06-.94-.94-2.06-.94 2.06-2.06.94z\"/><path d=\"M17.41 7.96l-1.37-1.37c-.4-.4-.92-.59-1.43-.59-.52 0-1.04.2-1.43.59L10.3 9.45l-7.72 7.72c-.78.78-.78 2.05 0 2.83L4 21.41c.39.39.9.59 1.41.59.51 0 1.02-.2 1.41-.59l7.78-7.78 2.81-2.81c.8-.78.8-2.07 0-2.86zM5.41 20L4 18.59l7.72-7.72 1.47 1.35L5.41 20z\"/>\n",
              "  </svg>\n",
              "      </button>\n",
              "\n",
              "\n",
              "\n",
              "    <div id=\"df-ede9f88a-b02f-48bb-996d-fa73f0fc83e7\">\n",
              "      <button class=\"colab-df-quickchart\" onclick=\"quickchart('df-ede9f88a-b02f-48bb-996d-fa73f0fc83e7')\"\n",
              "              title=\"Suggest charts.\"\n",
              "              style=\"display:none;\">\n",
              "\n",
              "<svg xmlns=\"http://www.w3.org/2000/svg\" height=\"24px\"viewBox=\"0 0 24 24\"\n",
              "     width=\"24px\">\n",
              "    <g>\n",
              "        <path d=\"M19 3H5c-1.1 0-2 .9-2 2v14c0 1.1.9 2 2 2h14c1.1 0 2-.9 2-2V5c0-1.1-.9-2-2-2zM9 17H7v-7h2v7zm4 0h-2V7h2v10zm4 0h-2v-4h2v4z\"/>\n",
              "    </g>\n",
              "</svg>\n",
              "      </button>\n",
              "    </div>\n",
              "\n",
              "<style>\n",
              "  .colab-df-quickchart {\n",
              "    background-color: #E8F0FE;\n",
              "    border: none;\n",
              "    border-radius: 50%;\n",
              "    cursor: pointer;\n",
              "    display: none;\n",
              "    fill: #1967D2;\n",
              "    height: 32px;\n",
              "    padding: 0 0 0 0;\n",
              "    width: 32px;\n",
              "  }\n",
              "\n",
              "  .colab-df-quickchart:hover {\n",
              "    background-color: #E2EBFA;\n",
              "    box-shadow: 0px 1px 2px rgba(60, 64, 67, 0.3), 0px 1px 3px 1px rgba(60, 64, 67, 0.15);\n",
              "    fill: #174EA6;\n",
              "  }\n",
              "\n",
              "  [theme=dark] .colab-df-quickchart {\n",
              "    background-color: #3B4455;\n",
              "    fill: #D2E3FC;\n",
              "  }\n",
              "\n",
              "  [theme=dark] .colab-df-quickchart:hover {\n",
              "    background-color: #434B5C;\n",
              "    box-shadow: 0px 1px 3px 1px rgba(0, 0, 0, 0.15);\n",
              "    filter: drop-shadow(0px 1px 2px rgba(0, 0, 0, 0.3));\n",
              "    fill: #FFFFFF;\n",
              "  }\n",
              "</style>\n",
              "\n",
              "    <script>\n",
              "      async function quickchart(key) {\n",
              "        const containerElement = document.querySelector('#' + key);\n",
              "        const charts = await google.colab.kernel.invokeFunction(\n",
              "            'suggestCharts', [key], {});\n",
              "      }\n",
              "    </script>\n",
              "\n",
              "      <script>\n",
              "\n",
              "function displayQuickchartButton(domScope) {\n",
              "  let quickchartButtonEl =\n",
              "    domScope.querySelector('#df-ede9f88a-b02f-48bb-996d-fa73f0fc83e7 button.colab-df-quickchart');\n",
              "  quickchartButtonEl.style.display =\n",
              "    google.colab.kernel.accessAllowed ? 'block' : 'none';\n",
              "}\n",
              "\n",
              "        displayQuickchartButton(document);\n",
              "      </script>\n",
              "      <style>\n",
              "    .colab-df-container {\n",
              "      display:flex;\n",
              "      flex-wrap:wrap;\n",
              "      gap: 12px;\n",
              "    }\n",
              "\n",
              "    .colab-df-convert {\n",
              "      background-color: #E8F0FE;\n",
              "      border: none;\n",
              "      border-radius: 50%;\n",
              "      cursor: pointer;\n",
              "      display: none;\n",
              "      fill: #1967D2;\n",
              "      height: 32px;\n",
              "      padding: 0 0 0 0;\n",
              "      width: 32px;\n",
              "    }\n",
              "\n",
              "    .colab-df-convert:hover {\n",
              "      background-color: #E2EBFA;\n",
              "      box-shadow: 0px 1px 2px rgba(60, 64, 67, 0.3), 0px 1px 3px 1px rgba(60, 64, 67, 0.15);\n",
              "      fill: #174EA6;\n",
              "    }\n",
              "\n",
              "    [theme=dark] .colab-df-convert {\n",
              "      background-color: #3B4455;\n",
              "      fill: #D2E3FC;\n",
              "    }\n",
              "\n",
              "    [theme=dark] .colab-df-convert:hover {\n",
              "      background-color: #434B5C;\n",
              "      box-shadow: 0px 1px 3px 1px rgba(0, 0, 0, 0.15);\n",
              "      filter: drop-shadow(0px 1px 2px rgba(0, 0, 0, 0.3));\n",
              "      fill: #FFFFFF;\n",
              "    }\n",
              "  </style>\n",
              "\n",
              "      <script>\n",
              "        const buttonEl =\n",
              "          document.querySelector('#df-c16b8f6e-42c2-4476-b5e0-d7df966e4961 button.colab-df-convert');\n",
              "        buttonEl.style.display =\n",
              "          google.colab.kernel.accessAllowed ? 'block' : 'none';\n",
              "\n",
              "        async function convertToInteractive(key) {\n",
              "          const element = document.querySelector('#df-c16b8f6e-42c2-4476-b5e0-d7df966e4961');\n",
              "          const dataTable =\n",
              "            await google.colab.kernel.invokeFunction('convertToInteractive',\n",
              "                                                     [key], {});\n",
              "          if (!dataTable) return;\n",
              "\n",
              "          const docLinkHtml = 'Like what you see? Visit the ' +\n",
              "            '<a target=\"_blank\" href=https://colab.research.google.com/notebooks/data_table.ipynb>data table notebook</a>'\n",
              "            + ' to learn more about interactive tables.';\n",
              "          element.innerHTML = '';\n",
              "          dataTable['output_type'] = 'display_data';\n",
              "          await google.colab.output.renderOutput(dataTable, element);\n",
              "          const docLink = document.createElement('div');\n",
              "          docLink.innerHTML = docLinkHtml;\n",
              "          element.appendChild(docLink);\n",
              "        }\n",
              "      </script>\n",
              "    </div>\n",
              "  </div>\n"
            ]
          },
          "metadata": {},
          "execution_count": 3
        }
      ]
    },
    {
      "cell_type": "code",
      "source": [
        "mpg=mtcar['mpg']\n",
        "x=mtcar['wt']"
      ],
      "metadata": {
        "id": "iYTzlYjoMRqc"
      },
      "execution_count": null,
      "outputs": []
    },
    {
      "cell_type": "code",
      "source": [
        "#Histogrm from csv\n",
        "plt.hist(mpg,bins=15)\n",
        "plt.show()"
      ],
      "metadata": {
        "colab": {
          "base_uri": "https://localhost:8080/",
          "height": 430
        },
        "id": "_JU_dikRJkyE",
        "outputId": "a3ef03fb-82b4-41f0-9d53-46f7425e4f1a"
      },
      "execution_count": null,
      "outputs": [
        {
          "output_type": "display_data",
          "data": {
            "text/plain": [
              "<Figure size 640x480 with 1 Axes>"
            ],
            "image/png": "[encoded data removed]"
          },
          "metadata": {}
        }
      ]
    },
    {
      "cell_type": "code",
      "source": [
        "#Scatterplot from csv\n",
        "plt.scatter(mpg, x, marker = 'h', edgecolor = 'c', facecolor = 'b', s = 40)"
      ],
      "metadata": {
        "colab": {
          "base_uri": "https://localhost:8080/",
          "height": 447
        },
        "id": "m6PxgXyEKzYa",
        "outputId": "365b70b1-dcc9-4819-8521-dd04b1b770e9"
      },
      "execution_count": null,
      "outputs": [
        {
          "output_type": "execute_result",
          "data": {
            "text/plain": [
              "<matplotlib.collections.PathCollection at 0x783a89f5db40>"
            ]
          },
          "metadata": {},
          "execution_count": 27
        },
        {
          "output_type": "display_data",
          "data": {
            "text/plain": [
              "<Figure size 640x480 with 1 Axes>"
            ],
            "image/png": "[encoded data removed]"
          },
          "metadata": {}
        }
      ]
    },
    {
      "cell_type": "code",
      "source": [
        "am_0 = mtcar[mtcar['am'] == 0]\n",
        "am_1 = mtcar[mtcar['am'] == 1]\n",
        "\n",
        "# Create a scatter plot\n",
        "plt.figure(figsize=(8, 6))\n",
        "plt.scatter(am_0['wt'], am_0['mpg'], label='am 0', color='blue')\n",
        "plt.scatter(am_1['wt'], am_1['mpg'], label='am 1', color='red')"
      ],
      "metadata": {
        "colab": {
          "base_uri": "https://localhost:8080/",
          "height": 451
        },
        "id": "MUsNKPNSMLBO",
        "outputId": "43ad4386-1994-419d-86e1-72c4c40b10a5"
      },
      "execution_count": null,
      "outputs": [
        {
          "output_type": "execute_result",
          "data": {
            "text/plain": [
              "<matplotlib.collections.PathCollection at 0x783a89c790f0>"
            ]
          },
          "metadata": {},
          "execution_count": 34
        },
        {
          "output_type": "display_data",
          "data": {
            "text/plain": [
              "<Figure size 640x480 with 1 Axes>"
            ],
            "image/png": "[encoded data removed]"
          },
          "metadata": {}
        }
      ]
    },
    {
      "cell_type": "code",
      "source": [
        "\n",
        "import seaborn as sns\n",
        "sns.kdeplot(mtcar[\"wt\"], fill=True)\n",
        "plt.title(\"Density Plot of Weight\")\n",
        "plt.xlabel(\"Weight\")\n",
        "plt.ylabel(\"Density\")\n",
        "plt.show()"
      ],
      "metadata": {
        "colab": {
          "base_uri": "https://localhost:8080/",
          "height": 472
        },
        "id": "St0v-L8kPrIQ",
        "outputId": "17e2a95e-29a6-4a3d-a3a6-fb9742327d29"
      },
      "execution_count": null,
      "outputs": [
        {
          "output_type": "display_data",
          "data": {
            "text/plain": [
              "<Figure size 640x480 with 1 Axes>"
            ],
            "image/png": "[encoded data removed]"
          },
          "metadata": {}
        }
      ]
    },
    {
      "cell_type": "code",
      "source": [
        "import seaborn as sns\n",
        "sns.kdeplot(mtcar[\"am\"], fill=True)\n",
        "plt.title(\"Density Plot of Weight\")\n",
        "plt.xlabel(\"Weight\")\n",
        "plt.ylabel(\"Density\")\n",
        "plt.show()"
      ],
      "metadata": {
        "colab": {
          "base_uri": "https://localhost:8080/",
          "height": 472
        },
        "id": "vQmQhWrhSGtL",
        "outputId": "f5e456ea-280b-433d-abef-aed8c5952208"
      },
      "execution_count": null,
      "outputs": [
        {
          "output_type": "display_data",
          "data": {
            "text/plain": [
              "<Figure size 640x480 with 1 Axes>"
            ],
            "image/png": "[encoded data removed]"
          },
          "metadata": {}
        }
      ]
    },
    {
      "cell_type": "code",
      "source": [
        "sns.set_style(\"darkgrid\")\n",
        "sns.set_palette(\"husl\")\n",
        "sns.countplot(x ='am', data = mtcar)"
      ],
      "metadata": {
        "colab": {
          "base_uri": "https://localhost:8080/",
          "height": 466
        },
        "id": "yItLjrJ-SYZH",
        "outputId": "ab8b0235-ab63-4416-c851-614da9da074c"
      },
      "execution_count": null,
      "outputs": [
        {
          "output_type": "execute_result",
          "data": {
            "text/plain": [
              "<Axes: xlabel='am', ylabel='count'>"
            ]
          },
          "metadata": {},
          "execution_count": 10
        },
        {
          "output_type": "display_data",
          "data": {
            "text/plain": [
              "<Figure size 640x480 with 1 Axes>"
            ],
            "image/png": "[encoded data removed]"
          },
          "metadata": {}
        }
      ]
    },
    {
      "cell_type": "code",
      "source": [
        "#countplot\n",
        "sns.countplot(x ='am', hue = \"cyl\", data = mtcar)\n",
        "\n",
        "# Add legend\n",
        "plt.legend(title=\"cyl\", loc=\"upper right\")\n",
        "\n",
        "plt.show()"
      ],
      "metadata": {
        "colab": {
          "base_uri": "https://localhost:8080/",
          "height": 449
        },
        "id": "agt5OJF7TdFO",
        "outputId": "b442162f-aa94-435c-d76c-a2daebe6c7ca"
      },
      "execution_count": null,
      "outputs": [
        {
          "output_type": "display_data",
          "data": {
            "text/plain": [
              "<Figure size 640x480 with 1 Axes>"
            ],
            "image/png": "[encoded data removed]"
          },
          "metadata": {}
        }
      ]
    },
    {
      "cell_type": "code",
      "source": [
        "#pairplot\n",
        "cols = [\"mpg\", \"disp\", \"hp\", \"wt\", \"qsec\"]\n",
        "\n",
        "# Create pairplot\n",
        "sns.pairplot(data=mtcar[cols])\n",
        "\n",
        "# Show the plot\n",
        "plt.show()\n"
      ],
      "metadata": {
        "id": "RhvNTo54UqhI"
      },
      "execution_count": null,
      "outputs": []
    },
    {
      "cell_type": "code",
      "source": [
        "#heatmap\n",
        "selected_cols = ['mpg', 'disp', 'hp', 'wt', 'qsec']\n",
        "selected_data = mtcar[selected_cols]\n",
        "# Create correlation matrix\n",
        "corr_matrix = selected_data.corr()\n",
        "# Create heatmap\n",
        "sns.heatmap(corr_matrix, annot=True)\n",
        "\n",
        "# Show the plot\n",
        "plt.show()"
      ],
      "metadata": {
        "colab": {
          "base_uri": "https://localhost:8080/",
          "height": 435
        },
        "id": "-bRsRWuKVMLL",
        "outputId": "cb78fa24-152a-4c9a-9092-9863c7abddda"
      },
      "execution_count": null,
      "outputs": [
        {
          "output_type": "display_data",
          "data": {
            "text/plain": [
              "<Figure size 640x480 with 2 Axes>"
            ],
            "image/png": "[encoded data removed]"
          },
          "metadata": {}
        }
      ]
    },
    {
      "cell_type": "markdown",
      "source": [
        "### **OOPS**"
      ],
      "metadata": {
        "id": "vuqILPx4S7kz"
      }
    },
    {
      "cell_type": "code",
      "source": [
        "class Animal:\n",
        "\n",
        "  def __init__(self,name,breed): #init is a constructor\n",
        "    self.name=name               #self is use for reffering the current obj and link this funtion with that particular obj\n",
        "    self.breed=breed\n",
        "\n",
        "\n",
        "  def __str__(self):\n",
        "    return f\"Account holder name: {self.name}, Account holder age: {self.breed}\"\n",
        "\n",
        "animal=Animal('Dog','Labrador')\n",
        "print(Animal)"
      ],
      "metadata": {
        "colab": {
          "base_uri": "https://localhost:8080/"
        },
        "id": "FvQsWQhiHwo3",
        "outputId": "919f2893-f34d-4ed7-e9b3-b45f37f39951"
      },
      "execution_count": null,
      "outputs": [
        {
          "output_type": "stream",
          "name": "stdout",
          "text": [
            "<class '__main__.Animal'>\n"
          ]
        }
      ]
    },
    {
      "cell_type": "code",
      "source": [
        " class AxisBank:\n",
        "\n",
        "    def __init__(self, name, age):\n",
        "        # creating an attribute by assigning a value\n",
        "        self.name = name # create the .name attribute and set it to name parameter\n",
        "        self.age = age\n",
        "\n",
        "    def __str__(self):\n",
        "        # Return a string representation of the object\n",
        "        return f\"Account holder name: {self.name}, Account holder age: {self.age}\"\n",
        "\n",
        "\n",
        "c1 = AxisBank('Vinay', 30)\n",
        "print(c1)"
      ],
      "metadata": {
        "colab": {
          "base_uri": "https://localhost:8080/"
        },
        "id": "McfkukVDY7g5",
        "outputId": "9530173a-e866-4434-f553-1044933a5a0f"
      },
      "execution_count": null,
      "outputs": [
        {
          "output_type": "stream",
          "name": "stdout",
          "text": [
            "Account holder name: Vinay, Account holder age: 30\n"
          ]
        }
      ]
    },
    {
      "cell_type": "code",
      "source": [
        "class cat():\n",
        "  def __init__(self):\n",
        "    print('created cat')\n",
        "\n",
        "  def speaks(self):\n",
        "    print('cats meow')\n",
        "\n",
        "\n",
        "\n",
        "class Dog():\n",
        "  def __init__(self):\n",
        "    print('created dog')\n",
        "\n",
        "  def speaks(self):\n",
        "    print('dogs barks')\n",
        "\n",
        "\n",
        "def pets(pet):\n",
        "  pet.speaks()\n",
        "\n",
        "niko=Dog()\n",
        "wert=cat()\n",
        "print(pets(wert))\n",
        "\n",
        "\n"
      ],
      "metadata": {
        "id": "ZhjeAiWjmFN4"
      },
      "execution_count": null,
      "outputs": []
    },
    {
      "cell_type": "markdown",
      "source": [
        "Create a class called Animal with the following specifications:\n",
        "\n",
        "Attributes:\n",
        "species (protected attribute denoted by a single underscore prefix)\n",
        "breed (private attribute denoted by double underscore prefix)\n",
        "\n",
        "Methods:\n",
        "get_species(): a getter method to return the value of species attribute.\n",
        "\n",
        "get_breed(): a getter method to return the value of breed attribute.\n",
        "\n",
        "set_species(species): a setter method to set the value of species attribute.\n",
        "\n",
        "set_breed(breed): a setter method to set the value of breed attribute.\n",
        "\n",
        "Create an instance of Animal class with initial species as \"Dog\" and breed as \"Labrador\". Access and print the initial values of species and breed using the getter methods.\n",
        "Modify the species to \"Cat\" and breed to \"Ragdoll\" using the setter methods.\n",
        "Finally, access and print the updated values of species and breed using the getter methods."
      ],
      "metadata": {
        "id": "rE7TD36WGimX"
      }
    },
    {
      "cell_type": "code",
      "source": [
        "class Animal:\n",
        "    def __init__(self, species, breed):\n",
        "        self._species = species  # Protected attribute\n",
        "        self.__breed = breed # Private attribute\n",
        "\n",
        "    def get_species(self):\n",
        "      return self._species\n",
        "\n",
        "    def get_breed (self):\n",
        "      return self.__breed\n",
        "\n",
        "    def set_species(self,species):\n",
        "      self._species = species\n",
        "\n",
        "    def set_breed(self,breed):\n",
        "      self.__breed = breed\n",
        "\n",
        "ani=Animal('Dog','Labrador')\n",
        "print('Initial Species:',ani.get_species())\n",
        "print('Initial breed:',ani.get_breed())\n",
        "ani.set_species('Cat')\n",
        "ani.set_breed('Ragdoll')\n",
        "print('Updated Species:',ani.get_species())\n",
        "print('Updated breed:',ani.get_breed())"
      ],
      "metadata": {
        "id": "7PTRFlZdG6YH"
      },
      "execution_count": null,
      "outputs": []
    },
    {
      "cell_type": "markdown",
      "source": [
        "Create a class called Person that represents a generic person. This class should have two private attributes: name and age. The name attribute should be a string that stores the person's name, and the age attribute should be an integer that stores the person's age. The class should also have two public methods: get_name and get_age, which return the person's name and age, respectively.\n",
        "\n",
        "\n",
        "Next, create a subclass called Student that inherits from Person. The Student class should have an additional private attribute called major, which stores the student's major. The class should also have a public method called get_major that returns the student's major.\n",
        "\n",
        "\n",
        "Finally, create a subclass called Teacher that also inherits from Person. The Teacher class should have an additional private attribute called subject, which stores the subject that the teacher teaches. The class should also have a public method called get_subject that returns the subject that the teacher teaches."
      ],
      "metadata": {
        "id": "1sBy610oMWCj"
      }
    },
    {
      "cell_type": "code",
      "source": [
        "class Person():\n",
        "  def __init__(self,name,age):\n",
        "    self.__name=name\n",
        "    self.__age=age\n",
        "  def get_name(self):\n",
        "    return self.__name\n",
        "\n",
        "  def get_age(self):\n",
        "    return self.__age\n",
        "\n",
        "\n",
        "class Student(Person):\n",
        "  def __init__(self,name,age,major):\n",
        "    Person.__init__(self,name,age)          # 2nd way to write this by using super()-->  super().__init__(name,age)\n",
        "    self.__major=major\n",
        "\n",
        "  def get_major(self):\n",
        "    return self.__major\n",
        "\n",
        "\n",
        "class Teacher(Person):\n",
        "  def __init__(self,name,age,sub):\n",
        "    Person.__init__(self,name,age)\n",
        "    self.__subject=sub\n",
        "\n",
        "  def get_sub(self):\n",
        "    return self.__subject\n",
        "\n",
        "\n",
        "p = Person(\"John\", 30)\n",
        "s = Student(\"Alice\", 20, \"Computer Science\")\n",
        "t= Teacher(\"Bob\", 40, \"Mathematics\")\n",
        "print(p.get_name())\n",
        "print(p.get_age())\n",
        "\n",
        "print(s.get_name())\n",
        "print(s.get_age())\n",
        "print(s.get_major())\n",
        "\n",
        "print(t.get_name())\n",
        "print(t.get_age())\n",
        "print(t.get_sub())\n",
        "\n"
      ],
      "metadata": {
        "colab": {
          "base_uri": "https://localhost:8080/"
        },
        "id": "5qoZQ07AMY0n",
        "outputId": "cc37cb86-d972-4d79-eaf8-52b09fd6d2c6"
      },
      "execution_count": null,
      "outputs": [
        {
          "output_type": "stream",
          "name": "stdout",
          "text": [
            "John\n",
            "30\n",
            "Alice\n",
            "20\n",
            "Computer Science\n",
            "Bob\n",
            "40\n",
            "Mathematics\n"
          ]
        }
      ]
    }
  ],
  "metadata": {
    "colab": {
      "provenance": [],
      "authorship_tag": "ABX9TyPmB7zFjXLzzil3erZL6oAU",
      "include_colab_link": true
    },
    "kernelspec": {
      "display_name": "Python 3",
      "name": "python3"
    },
    "language_info": {
      "name": "python"
    }
  },
  "nbformat": 4,
  "nbformat_minor": 0
}